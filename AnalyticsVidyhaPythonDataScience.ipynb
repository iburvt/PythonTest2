{
 "cells": [
  {
   "cell_type": "code",
   "execution_count": 1,
   "metadata": {},
   "outputs": [
    {
     "data": {
      "text/plain": [
       "5"
      ]
     },
     "execution_count": 1,
     "metadata": {},
     "output_type": "execute_result"
    }
   ],
   "source": [
    "2 + 3 #First program in iPython Notebook environment\n",
    "#Multiple lines can be written here nad they will be executed at once"
   ]
  },
  {
   "cell_type": "markdown",
   "metadata": {},
   "source": [
    "LISTS"
   ]
  },
  {
   "cell_type": "markdown",
   "metadata": {},
   "source": [
    "A list can be simply defined by writing comma separated values in square brackets."
   ]
  },
  {
   "cell_type": "code",
   "execution_count": 2,
   "metadata": {},
   "outputs": [],
   "source": [
    "squares_list = [0,1,4,9,16,25]"
   ]
  },
  {
   "cell_type": "code",
   "execution_count": 3,
   "metadata": {},
   "outputs": [
    {
     "data": {
      "text/plain": [
       "[0, 1, 4, 9, 16, 25]"
      ]
     },
     "execution_count": 3,
     "metadata": {},
     "output_type": "execute_result"
    }
   ],
   "source": [
    "squares_list"
   ]
  },
  {
   "cell_type": "markdown",
   "metadata": {},
   "source": [
    "Individual elements of a list can be accessed by writing the index number in square bracket. Please note that the first index of a list is 0 not 1."
   ]
  },
  {
   "cell_type": "code",
   "execution_count": 4,
   "metadata": {},
   "outputs": [
    {
     "data": {
      "text/plain": [
       "0"
      ]
     },
     "execution_count": 4,
     "metadata": {},
     "output_type": "execute_result"
    }
   ],
   "source": [
    "squares_list[0]"
   ]
  },
  {
   "cell_type": "markdown",
   "metadata": {},
   "source": [
    "A range of script can be accessed by having the first index and the last index."
   ]
  },
  {
   "cell_type": "code",
   "execution_count": 5,
   "metadata": {},
   "outputs": [
    {
     "data": {
      "text/plain": [
       "[4, 9]"
      ]
     },
     "execution_count": 5,
     "metadata": {},
     "output_type": "execute_result"
    }
   ],
   "source": [
    "squares_list[2:4]"
   ]
  },
  {
   "cell_type": "markdown",
   "metadata": {},
   "source": [
    "A negative index accesses the list from the end."
   ]
  },
  {
   "cell_type": "code",
   "execution_count": 6,
   "metadata": {},
   "outputs": [
    {
     "data": {
      "text/plain": [
       "16"
      ]
     },
     "execution_count": 6,
     "metadata": {},
     "output_type": "execute_result"
    }
   ],
   "source": [
    "squares_list[-2]"
   ]
  },
  {
   "cell_type": "markdown",
   "metadata": {},
   "source": [
    "A few common methods applicable to lists include append(), extend(), insert(), remove(), pop(), count(), sort(), reverse()."
   ]
  },
  {
   "cell_type": "markdown",
   "metadata": {},
   "source": [
    "STRINGS"
   ]
  },
  {
   "cell_type": "markdown",
   "metadata": {},
   "source": [
    "A string can be simply defined by using single, double, or triple quotation."
   ]
  },
  {
   "cell_type": "code",
   "execution_count": 14,
   "metadata": {},
   "outputs": [
    {
     "name": "stdout",
     "output_type": "stream",
     "text": [
      "e\n",
      "5\n",
      "HelloWorld\n"
     ]
    }
   ],
   "source": [
    "greeting = 'Hello'\n",
    "print (greeting[1])  #Returns character on the index 1\n",
    "print (len(greeting)) #Prints length of string\n",
    "print (greeting + 'World') #String concatenation"
   ]
  },
  {
   "cell_type": "markdown",
   "metadata": {},
   "source": [
    "Raw strings can be used to pass on string as is. Python interpreter does not alter the string, if you specify a string to be raw. Raw string can be defined by adding r to the string."
   ]
  },
  {
   "cell_type": "code",
   "execution_count": 15,
   "metadata": {},
   "outputs": [
    {
     "name": "stdout",
     "output_type": "stream",
     "text": [
      "\\n is a newline character by default.\n"
     ]
    }
   ],
   "source": [
    "stmt = r'\\n is a newline character by default.'\n",
    "print (stmt)"
   ]
  },
  {
   "cell_type": "markdown",
   "metadata": {},
   "source": [
    "Python strings are immutable and hence can't be changed. Doing so will result in an error."
   ]
  },
  {
   "cell_type": "code",
   "execution_count": 16,
   "metadata": {},
   "outputs": [
    {
     "ename": "TypeError",
     "evalue": "'str' object does not support item assignment",
     "output_type": "error",
     "traceback": [
      "\u001b[1;31m---------------------------------------------------------------------------\u001b[0m",
      "\u001b[1;31mTypeError\u001b[0m                                 Traceback (most recent call last)",
      "\u001b[1;32m<ipython-input-16-6fc3deba75df>\u001b[0m in \u001b[0;36m<module>\u001b[1;34m()\u001b[0m\n\u001b[1;32m----> 1\u001b[1;33m \u001b[0mgreeting\u001b[0m\u001b[1;33m[\u001b[0m\u001b[1;36m1\u001b[0m\u001b[1;33m:\u001b[0m\u001b[1;33m]\u001b[0m \u001b[1;33m=\u001b[0m \u001b[1;34m'1'\u001b[0m \u001b[1;31m#Trying to change Hello to Hi. Should result in an error.\u001b[0m\u001b[1;33m\u001b[0m\u001b[0m\n\u001b[0m",
      "\u001b[1;31mTypeError\u001b[0m: 'str' object does not support item assignment"
     ]
    }
   ],
   "source": [
    "greeting[1:] = '1' #Trying to change Hello to Hi. Should result in an error."
   ]
  },
  {
   "cell_type": "markdown",
   "metadata": {},
   "source": [
    "Common string methods include lower(), upper(), strip(), isdigit(), asspace(), find(), replace(), split(), and join(). These are usually very helpful when you need to perform data manipulations or cleaning on text fields. "
   ]
  },
  {
   "cell_type": "markdown",
   "metadata": {},
   "source": [
    "TUPLES"
   ]
  },
  {
   "cell_type": "markdown",
   "metadata": {},
   "source": [
    "A tuple is represented by a number of values separated by commas. Tuples are immutable and the output is surrounded by parantheses so that nested tuples are processed correctly. Additionally, even though tuples are immutable, they can hold mutable data if needed."
   ]
  },
  {
   "cell_type": "code",
   "execution_count": 17,
   "metadata": {},
   "outputs": [],
   "source": [
    "tuple_example = 0,1,4,9,16,25"
   ]
  },
  {
   "cell_type": "code",
   "execution_count": 18,
   "metadata": {},
   "outputs": [
    {
     "data": {
      "text/plain": [
       "(0, 1, 4, 9, 16, 25)"
      ]
     },
     "execution_count": 18,
     "metadata": {},
     "output_type": "execute_result"
    }
   ],
   "source": [
    "tuple_example #output would be enclosed in parantheses"
   ]
  },
  {
   "cell_type": "code",
   "execution_count": 19,
   "metadata": {},
   "outputs": [
    {
     "data": {
      "text/plain": [
       "4"
      ]
     },
     "execution_count": 19,
     "metadata": {},
     "output_type": "execute_result"
    }
   ],
   "source": [
    "tuple_example[2] #Single elements can be accessed in a fashion simliar to lists."
   ]
  },
  {
   "cell_type": "code",
   "execution_count": 20,
   "metadata": {},
   "outputs": [
    {
     "ename": "TypeError",
     "evalue": "'tuple' object does not support item assignment",
     "output_type": "error",
     "traceback": [
      "\u001b[1;31m---------------------------------------------------------------------------\u001b[0m",
      "\u001b[1;31mTypeError\u001b[0m                                 Traceback (most recent call last)",
      "\u001b[1;32m<ipython-input-20-49a879a21fd4>\u001b[0m in \u001b[0;36m<module>\u001b[1;34m()\u001b[0m\n\u001b[1;32m----> 1\u001b[1;33m \u001b[0mtuple_example\u001b[0m\u001b[1;33m[\u001b[0m\u001b[1;36m2\u001b[0m\u001b[1;33m]\u001b[0m \u001b[1;33m=\u001b[0m \u001b[1;36m6\u001b[0m \u001b[1;31m#Tuples are immutable and hence this should result in an error.\u001b[0m\u001b[1;33m\u001b[0m\u001b[0m\n\u001b[0m",
      "\u001b[1;31mTypeError\u001b[0m: 'tuple' object does not support item assignment"
     ]
    }
   ],
   "source": [
    "tuple_example[2] = 6 #Tuples are immutable and hence this should result in an error."
   ]
  },
  {
   "cell_type": "markdown",
   "metadata": {},
   "source": [
    "DICTIONARY"
   ]
  },
  {
   "cell_type": "markdown",
   "metadata": {},
   "source": [
    "A dictionary is an unordered set of key:value pairs, with the requirement that the keys are unique (within one dictionary. A pair of braces creates an empty dictionary. {}"
   ]
  },
  {
   "cell_type": "code",
   "execution_count": 21,
   "metadata": {},
   "outputs": [
    {
     "data": {
      "text/plain": [
       "{'Kunal': 9073, 'Nitin': 9330, 'Sunil': 9223, 'Tavish': 9128}"
      ]
     },
     "execution_count": 21,
     "metadata": {},
     "output_type": "execute_result"
    }
   ],
   "source": [
    "extensions = {'Kunal':9073, 'Tavish':9128, 'Sunil':9223, 'Nitin':9330}\n",
    "extensions"
   ]
  },
  {
   "cell_type": "code",
   "execution_count": 22,
   "metadata": {},
   "outputs": [
    {
     "data": {
      "text/plain": [
       "{'Kunal': 9073, 'Mukesh': 9150, 'Nitin': 9330, 'Sunil': 9223, 'Tavish': 9128}"
      ]
     },
     "execution_count": 22,
     "metadata": {},
     "output_type": "execute_result"
    }
   ],
   "source": [
    "extensions['Mukesh'] = 9150\n",
    "extensions"
   ]
  },
  {
   "cell_type": "code",
   "execution_count": 23,
   "metadata": {},
   "outputs": [
    {
     "data": {
      "text/plain": [
       "dict_keys(['Kunal', 'Tavish', 'Sunil', 'Nitin', 'Mukesh'])"
      ]
     },
     "execution_count": 23,
     "metadata": {},
     "output_type": "execute_result"
    }
   ],
   "source": [
    "extensions.keys()"
   ]
  },
  {
   "cell_type": "markdown",
   "metadata": {},
   "source": [
    "# Python Iteration and Conditional Constructs"
   ]
  },
  {
   "cell_type": "markdown",
   "metadata": {},
   "source": [
    "Like most languages, Python also has a FOR-loop which is the most widely used method for iteration. It has simple syntax"
   ]
  },
  {
   "cell_type": "code",
   "execution_count": 26,
   "metadata": {},
   "outputs": [
    {
     "ename": "NameError",
     "evalue": "name 'i' is not defined",
     "output_type": "error",
     "traceback": [
      "\u001b[1;31m---------------------------------------------------------------------------\u001b[0m",
      "\u001b[1;31mNameError\u001b[0m                                 Traceback (most recent call last)",
      "\u001b[1;32m<ipython-input-26-4a0e9b7c43a7>\u001b[0m in \u001b[0;36m<module>\u001b[1;34m()\u001b[0m\n\u001b[0;32m     12\u001b[0m \u001b[1;33m\u001b[0m\u001b[0m\n\u001b[0;32m     13\u001b[0m \u001b[1;31m#And for each run through of the print the command should be executed and print out the value of i\u001b[0m\u001b[1;33m\u001b[0m\u001b[1;33m\u001b[0m\u001b[0m\n\u001b[1;32m---> 14\u001b[1;33m \u001b[0mprint\u001b[0m\u001b[1;33m(\u001b[0m\u001b[0mi\u001b[0m\u001b[1;33m)\u001b[0m\u001b[1;33m\u001b[0m\u001b[0m\n\u001b[0m\u001b[0;32m     15\u001b[0m \u001b[1;33m\u001b[0m\u001b[0m\n\u001b[0;32m     16\u001b[0m \u001b[1;31m#And finally i want to make sure I am going to increase i as well through each iteration\u001b[0m\u001b[1;33m\u001b[0m\u001b[1;33m\u001b[0m\u001b[0m\n",
      "\u001b[1;31mNameError\u001b[0m: name 'i' is not defined"
     ]
    }
   ],
   "source": [
    "# for i in [python iterable]:\n",
    "#   expression(i)\n",
    "\n",
    "#-------------------------\n",
    "\n",
    "#Logic of Loops\n",
    "\n",
    "#Declare variable i=1\n",
    "#i=1\n",
    "\n",
    "#We have a while loop here - and the while loop needs to be executed as long as i is less than or equal to 10 while i <= 10:\n",
    "\n",
    "#And for each run through of the print the command should be executed and print out the value of i\n",
    "print(i)\n",
    "\n",
    "#And finally i want to make sure I am going to increase i as well through each iteration\n",
    "#i = i + 1\n",
    "\n",
    "#Hitting run gives me a columnar output of 1 to 10"
   ]
  },
  {
   "cell_type": "markdown",
   "metadata": {},
   "source": [
    "Here - the Python Iterable can be a list, tuple, or other advanced data structures which we will explore in later sections.  Let's take a look at a simple example, determinng the factorial of a number.\n",
    "\n",
    "range(start, stop, step) where start = start of range, stop = end of range, step = difference between each number in the sequence."
   ]
  },
  {
   "cell_type": "code",
   "execution_count": 32,
   "metadata": {},
   "outputs": [
    {
     "name": "stdout",
     "output_type": "stream",
     "text": [
      "0\n",
      "1\n",
      "2\n",
      "3\n",
      "4\n"
     ]
    }
   ],
   "source": [
    "for i in range(5):  #One parameter\n",
    "  print(i)"
   ]
  },
  {
   "cell_type": "code",
   "execution_count": 34,
   "metadata": {},
   "outputs": [
    {
     "name": "stdout",
     "output_type": "stream",
     "text": [
      "3\n",
      "4\n",
      "5\n"
     ]
    }
   ],
   "source": [
    "for i in range(3, 6): # Two parameters\n",
    "  print(i)"
   ]
  },
  {
   "cell_type": "code",
   "execution_count": 35,
   "metadata": {},
   "outputs": [
    {
     "name": "stdout",
     "output_type": "stream",
     "text": [
      "4\n",
      "6\n",
      "8\n"
     ]
    }
   ],
   "source": [
    "for i in range(4, 10, 2): # Three parameters\n",
    "    print(i)"
   ]
  },
  {
   "cell_type": "code",
   "execution_count": 37,
   "metadata": {},
   "outputs": [
    {
     "name": "stdout",
     "output_type": "stream",
     "text": [
      "0\n",
      "-2\n",
      "-4\n",
      "-6\n",
      "-8\n"
     ]
    }
   ],
   "source": [
    "for i in range(0, -10, -2): #Going backwards\n",
    "    print(i)"
   ]
  },
  {
   "cell_type": "code",
   "execution_count": 39,
   "metadata": {},
   "outputs": [
    {
     "name": "stdout",
     "output_type": "stream",
     "text": [
      "one\n",
      "two\n",
      "three\n",
      "four\n",
      "five\n"
     ]
    }
   ],
   "source": [
    "my_list = ['one','two','three','four','five']\n",
    "my_list_len = len(my_list)\n",
    "for i in range(0,my_list_len):\n",
    "    print(my_list[i])"
   ]
  },
  {
   "cell_type": "code",
   "execution_count": 40,
   "metadata": {},
   "outputs": [
    {
     "name": "stdout",
     "output_type": "stream",
     "text": [
      "99 bottles of beer on the wall, 99 bottles of beer!\n",
      "So take it down, pass it around, 98 more bottles of beer on the wall!\n",
      "98 bottles of beer on the wall, 98 bottles of beer!\n",
      "So take it down, pass it around, 97 more bottles of beer on the wall!\n",
      "97 bottles of beer on the wall, 97 bottles of beer!\n",
      "So take it down, pass it around, 96 more bottles of beer on the wall!\n",
      "96 bottles of beer on the wall, 96 bottles of beer!\n",
      "So take it down, pass it around, 95 more bottles of beer on the wall!\n",
      "95 bottles of beer on the wall, 95 bottles of beer!\n",
      "So take it down, pass it around, 94 more bottles of beer on the wall!\n",
      "94 bottles of beer on the wall, 94 bottles of beer!\n",
      "So take it down, pass it around, 93 more bottles of beer on the wall!\n",
      "93 bottles of beer on the wall, 93 bottles of beer!\n",
      "So take it down, pass it around, 92 more bottles of beer on the wall!\n",
      "92 bottles of beer on the wall, 92 bottles of beer!\n",
      "So take it down, pass it around, 91 more bottles of beer on the wall!\n",
      "91 bottles of beer on the wall, 91 bottles of beer!\n",
      "So take it down, pass it around, 90 more bottles of beer on the wall!\n",
      "90 bottles of beer on the wall, 90 bottles of beer!\n",
      "So take it down, pass it around, 89 more bottles of beer on the wall!\n",
      "89 bottles of beer on the wall, 89 bottles of beer!\n",
      "So take it down, pass it around, 88 more bottles of beer on the wall!\n",
      "88 bottles of beer on the wall, 88 bottles of beer!\n",
      "So take it down, pass it around, 87 more bottles of beer on the wall!\n",
      "87 bottles of beer on the wall, 87 bottles of beer!\n",
      "So take it down, pass it around, 86 more bottles of beer on the wall!\n",
      "86 bottles of beer on the wall, 86 bottles of beer!\n",
      "So take it down, pass it around, 85 more bottles of beer on the wall!\n",
      "85 bottles of beer on the wall, 85 bottles of beer!\n",
      "So take it down, pass it around, 84 more bottles of beer on the wall!\n",
      "84 bottles of beer on the wall, 84 bottles of beer!\n",
      "So take it down, pass it around, 83 more bottles of beer on the wall!\n",
      "83 bottles of beer on the wall, 83 bottles of beer!\n",
      "So take it down, pass it around, 82 more bottles of beer on the wall!\n",
      "82 bottles of beer on the wall, 82 bottles of beer!\n",
      "So take it down, pass it around, 81 more bottles of beer on the wall!\n",
      "81 bottles of beer on the wall, 81 bottles of beer!\n",
      "So take it down, pass it around, 80 more bottles of beer on the wall!\n",
      "80 bottles of beer on the wall, 80 bottles of beer!\n",
      "So take it down, pass it around, 79 more bottles of beer on the wall!\n",
      "79 bottles of beer on the wall, 79 bottles of beer!\n",
      "So take it down, pass it around, 78 more bottles of beer on the wall!\n",
      "78 bottles of beer on the wall, 78 bottles of beer!\n",
      "So take it down, pass it around, 77 more bottles of beer on the wall!\n",
      "77 bottles of beer on the wall, 77 bottles of beer!\n",
      "So take it down, pass it around, 76 more bottles of beer on the wall!\n",
      "76 bottles of beer on the wall, 76 bottles of beer!\n",
      "So take it down, pass it around, 75 more bottles of beer on the wall!\n",
      "75 bottles of beer on the wall, 75 bottles of beer!\n",
      "So take it down, pass it around, 74 more bottles of beer on the wall!\n",
      "74 bottles of beer on the wall, 74 bottles of beer!\n",
      "So take it down, pass it around, 73 more bottles of beer on the wall!\n",
      "73 bottles of beer on the wall, 73 bottles of beer!\n",
      "So take it down, pass it around, 72 more bottles of beer on the wall!\n",
      "72 bottles of beer on the wall, 72 bottles of beer!\n",
      "So take it down, pass it around, 71 more bottles of beer on the wall!\n",
      "71 bottles of beer on the wall, 71 bottles of beer!\n",
      "So take it down, pass it around, 70 more bottles of beer on the wall!\n",
      "70 bottles of beer on the wall, 70 bottles of beer!\n",
      "So take it down, pass it around, 69 more bottles of beer on the wall!\n",
      "69 bottles of beer on the wall, 69 bottles of beer!\n",
      "So take it down, pass it around, 68 more bottles of beer on the wall!\n",
      "68 bottles of beer on the wall, 68 bottles of beer!\n",
      "So take it down, pass it around, 67 more bottles of beer on the wall!\n",
      "67 bottles of beer on the wall, 67 bottles of beer!\n",
      "So take it down, pass it around, 66 more bottles of beer on the wall!\n",
      "66 bottles of beer on the wall, 66 bottles of beer!\n",
      "So take it down, pass it around, 65 more bottles of beer on the wall!\n",
      "65 bottles of beer on the wall, 65 bottles of beer!\n",
      "So take it down, pass it around, 64 more bottles of beer on the wall!\n",
      "64 bottles of beer on the wall, 64 bottles of beer!\n",
      "So take it down, pass it around, 63 more bottles of beer on the wall!\n",
      "63 bottles of beer on the wall, 63 bottles of beer!\n",
      "So take it down, pass it around, 62 more bottles of beer on the wall!\n",
      "62 bottles of beer on the wall, 62 bottles of beer!\n",
      "So take it down, pass it around, 61 more bottles of beer on the wall!\n",
      "61 bottles of beer on the wall, 61 bottles of beer!\n",
      "So take it down, pass it around, 60 more bottles of beer on the wall!\n",
      "60 bottles of beer on the wall, 60 bottles of beer!\n",
      "So take it down, pass it around, 59 more bottles of beer on the wall!\n",
      "59 bottles of beer on the wall, 59 bottles of beer!\n",
      "So take it down, pass it around, 58 more bottles of beer on the wall!\n",
      "58 bottles of beer on the wall, 58 bottles of beer!\n",
      "So take it down, pass it around, 57 more bottles of beer on the wall!\n",
      "57 bottles of beer on the wall, 57 bottles of beer!\n",
      "So take it down, pass it around, 56 more bottles of beer on the wall!\n",
      "56 bottles of beer on the wall, 56 bottles of beer!\n",
      "So take it down, pass it around, 55 more bottles of beer on the wall!\n",
      "55 bottles of beer on the wall, 55 bottles of beer!\n",
      "So take it down, pass it around, 54 more bottles of beer on the wall!\n",
      "54 bottles of beer on the wall, 54 bottles of beer!\n",
      "So take it down, pass it around, 53 more bottles of beer on the wall!\n",
      "53 bottles of beer on the wall, 53 bottles of beer!\n",
      "So take it down, pass it around, 52 more bottles of beer on the wall!\n",
      "52 bottles of beer on the wall, 52 bottles of beer!\n",
      "So take it down, pass it around, 51 more bottles of beer on the wall!\n",
      "51 bottles of beer on the wall, 51 bottles of beer!\n",
      "So take it down, pass it around, 50 more bottles of beer on the wall!\n",
      "50 bottles of beer on the wall, 50 bottles of beer!\n",
      "So take it down, pass it around, 49 more bottles of beer on the wall!\n",
      "49 bottles of beer on the wall, 49 bottles of beer!\n",
      "So take it down, pass it around, 48 more bottles of beer on the wall!\n",
      "48 bottles of beer on the wall, 48 bottles of beer!\n",
      "So take it down, pass it around, 47 more bottles of beer on the wall!\n",
      "47 bottles of beer on the wall, 47 bottles of beer!\n",
      "So take it down, pass it around, 46 more bottles of beer on the wall!\n",
      "46 bottles of beer on the wall, 46 bottles of beer!\n",
      "So take it down, pass it around, 45 more bottles of beer on the wall!\n",
      "45 bottles of beer on the wall, 45 bottles of beer!\n",
      "So take it down, pass it around, 44 more bottles of beer on the wall!\n",
      "44 bottles of beer on the wall, 44 bottles of beer!\n",
      "So take it down, pass it around, 43 more bottles of beer on the wall!\n",
      "43 bottles of beer on the wall, 43 bottles of beer!\n",
      "So take it down, pass it around, 42 more bottles of beer on the wall!\n",
      "42 bottles of beer on the wall, 42 bottles of beer!\n",
      "So take it down, pass it around, 41 more bottles of beer on the wall!\n",
      "41 bottles of beer on the wall, 41 bottles of beer!\n",
      "So take it down, pass it around, 40 more bottles of beer on the wall!\n",
      "40 bottles of beer on the wall, 40 bottles of beer!\n",
      "So take it down, pass it around, 39 more bottles of beer on the wall!\n",
      "39 bottles of beer on the wall, 39 bottles of beer!\n",
      "So take it down, pass it around, 38 more bottles of beer on the wall!\n",
      "38 bottles of beer on the wall, 38 bottles of beer!\n",
      "So take it down, pass it around, 37 more bottles of beer on the wall!\n",
      "37 bottles of beer on the wall, 37 bottles of beer!\n",
      "So take it down, pass it around, 36 more bottles of beer on the wall!\n",
      "36 bottles of beer on the wall, 36 bottles of beer!\n",
      "So take it down, pass it around, 35 more bottles of beer on the wall!\n",
      "35 bottles of beer on the wall, 35 bottles of beer!\n",
      "So take it down, pass it around, 34 more bottles of beer on the wall!\n",
      "34 bottles of beer on the wall, 34 bottles of beer!\n",
      "So take it down, pass it around, 33 more bottles of beer on the wall!\n",
      "33 bottles of beer on the wall, 33 bottles of beer!\n",
      "So take it down, pass it around, 32 more bottles of beer on the wall!\n",
      "32 bottles of beer on the wall, 32 bottles of beer!\n",
      "So take it down, pass it around, 31 more bottles of beer on the wall!\n",
      "31 bottles of beer on the wall, 31 bottles of beer!\n",
      "So take it down, pass it around, 30 more bottles of beer on the wall!\n",
      "30 bottles of beer on the wall, 30 bottles of beer!\n",
      "So take it down, pass it around, 29 more bottles of beer on the wall!\n",
      "29 bottles of beer on the wall, 29 bottles of beer!\n",
      "So take it down, pass it around, 28 more bottles of beer on the wall!\n",
      "28 bottles of beer on the wall, 28 bottles of beer!\n",
      "So take it down, pass it around, 27 more bottles of beer on the wall!\n",
      "27 bottles of beer on the wall, 27 bottles of beer!\n",
      "So take it down, pass it around, 26 more bottles of beer on the wall!\n",
      "26 bottles of beer on the wall, 26 bottles of beer!\n",
      "So take it down, pass it around, 25 more bottles of beer on the wall!\n",
      "25 bottles of beer on the wall, 25 bottles of beer!\n",
      "So take it down, pass it around, 24 more bottles of beer on the wall!\n",
      "24 bottles of beer on the wall, 24 bottles of beer!\n",
      "So take it down, pass it around, 23 more bottles of beer on the wall!\n",
      "23 bottles of beer on the wall, 23 bottles of beer!\n",
      "So take it down, pass it around, 22 more bottles of beer on the wall!\n",
      "22 bottles of beer on the wall, 22 bottles of beer!\n",
      "So take it down, pass it around, 21 more bottles of beer on the wall!\n",
      "21 bottles of beer on the wall, 21 bottles of beer!\n",
      "So take it down, pass it around, 20 more bottles of beer on the wall!\n",
      "20 bottles of beer on the wall, 20 bottles of beer!\n",
      "So take it down, pass it around, 19 more bottles of beer on the wall!\n",
      "19 bottles of beer on the wall, 19 bottles of beer!\n",
      "So take it down, pass it around, 18 more bottles of beer on the wall!\n",
      "18 bottles of beer on the wall, 18 bottles of beer!\n",
      "So take it down, pass it around, 17 more bottles of beer on the wall!\n",
      "17 bottles of beer on the wall, 17 bottles of beer!\n",
      "So take it down, pass it around, 16 more bottles of beer on the wall!\n",
      "16 bottles of beer on the wall, 16 bottles of beer!\n",
      "So take it down, pass it around, 15 more bottles of beer on the wall!\n",
      "15 bottles of beer on the wall, 15 bottles of beer!\n",
      "So take it down, pass it around, 14 more bottles of beer on the wall!\n",
      "14 bottles of beer on the wall, 14 bottles of beer!\n",
      "So take it down, pass it around, 13 more bottles of beer on the wall!\n",
      "13 bottles of beer on the wall, 13 bottles of beer!\n",
      "So take it down, pass it around, 12 more bottles of beer on the wall!\n",
      "12 bottles of beer on the wall, 12 bottles of beer!\n",
      "So take it down, pass it around, 11 more bottles of beer on the wall!\n",
      "11 bottles of beer on the wall, 11 bottles of beer!\n",
      "So take it down, pass it around, 10 more bottles of beer on the wall!\n",
      "10 bottles of beer on the wall, 10 bottles of beer!\n",
      "So take it down, pass it around, 9 more bottles of beer on the wall!\n",
      "9 bottles of beer on the wall, 9 bottles of beer!\n",
      "So take it down, pass it around, 8 more bottles of beer on the wall!\n",
      "8 bottles of beer on the wall, 8 bottles of beer!\n",
      "So take it down, pass it around, 7 more bottles of beer on the wall!\n",
      "7 bottles of beer on the wall, 7 bottles of beer!\n",
      "So take it down, pass it around, 6 more bottles of beer on the wall!\n",
      "6 bottles of beer on the wall, 6 bottles of beer!\n",
      "So take it down, pass it around, 5 more bottles of beer on the wall!\n",
      "5 bottles of beer on the wall, 5 bottles of beer!\n",
      "So take it down, pass it around, 4 more bottles of beer on the wall!\n",
      "4 bottles of beer on the wall, 4 bottles of beer!\n",
      "So take it down, pass it around, 3 more bottles of beer on the wall!\n",
      "3 bottles of beer on the wall, 3 bottles of beer!\n",
      "So take it down, pass it around, 2 more bottles of beer on the wall!\n",
      "2 more bottles of beer on the wall, 2 more bottles of beer!\n",
      "So take one down, pass it around, 1 more bottle of beer on the wall!\n",
      "1 bottle of beer on the wall, 1 bottle of beer!\n",
      "So take it down, pass it around, no more bottles of beer on the wall!\n"
     ]
    }
   ],
   "source": [
    "for i in range(99, 0, -1):\n",
    "        if i == 1:\n",
    "                print('1 bottle of beer on the wall, 1 bottle of beer!')\n",
    "                print('So take it down, pass it around, no more bottles of beer on the wall!')\n",
    "        elif i == 2:\n",
    "                print('2 more bottles of beer on the wall, 2 more bottles of beer!')\n",
    "                print('So take one down, pass it around, 1 more bottle of beer on the wall!')\n",
    "        else:\n",
    "                print('{0} bottles of beer on the wall, {0} bottles of beer!'.format(i))\n",
    "                print('So take it down, pass it around, {0} more bottles of beer on the wall!'.format(i - 1))"
   ]
  },
  {
   "cell_type": "markdown",
   "metadata": {},
   "source": [
    "Coming to conditional statements, these are used to execute code fragments based on a condition. The most commonly used construct is if-else, with following syntax."
   ]
  },
  {
   "cell_type": "code",
   "execution_count": 41,
   "metadata": {},
   "outputs": [],
   "source": [
    "#if [condition]:\n",
    "  #__execution if true__\n",
    "#else:\n",
    "  #__execution if false__"
   ]
  },
  {
   "cell_type": "markdown",
   "metadata": {},
   "source": [
    "For instance, if we want ot print whether the number N is even or odd:"
   ]
  },
  {
   "cell_type": "code",
   "execution_count": 42,
   "metadata": {},
   "outputs": [],
   "source": [
    "#if N%2 == 0:\n",
    "    #print 'Even'\n",
    "#else: \n",
    "    #print 'Odd'"
   ]
  },
  {
   "cell_type": "markdown",
   "metadata": {},
   "source": [
    "# Python Libraries"
   ]
  },
  {
   "cell_type": "markdown",
   "metadata": {},
   "source": [
    "Importing python libraries"
   ]
  },
  {
   "cell_type": "code",
   "execution_count": 43,
   "metadata": {},
   "outputs": [],
   "source": [
    "#import math as m\n",
    "#from math import *"
   ]
  },
  {
   "cell_type": "markdown",
   "metadata": {},
   "source": [
    "In the first manner, we have defined an alias m to library math. We can now use various functions from math library (e.g. factorial) by referencing it using the alias m.factorial().\n",
    "\n",
    "In the second manner, you have imported the entire name space in math i.e. you can directly use factorial() without referring to math.\n",
    "\n",
    "Tip: Google recommends that you use first style of importing libraries, as you will know where the functions have come from."
   ]
  },
  {
   "cell_type": "markdown",
   "metadata": {},
   "source": [
    "Following are a list of relevant libraries:\n",
    "\n",
    "1) NumPy stands for Numerical Python. The most powerful feature of NumPy is n-dimensional array. This library also contains basic linear algebra functions, Fourier transforms,  advanced random number capabilities and tools for integration with other low level languages like Fortran, C and C++\n",
    "\n",
    "2) SciPy stands for Scientific Python. SciPy is built on NumPy. It is one of the most useful library for variety of high level science and engineering modules like discrete Fourier transform, Linear Algebra, Optimization and Sparse matrices.\n",
    "\n",
    "3) Matplotlib for plotting vast variety of graphs, starting from histograms to line plots to heat plots.. You can use Pylab feature in ipython notebook (ipython notebook –pylab = inline) to use these plotting features inline. If you ignore the inline option, then pylab converts ipython environment to an environment, very similar to Matlab. You can also use Latex commands to add math to your plot.\n",
    "\n",
    "4) Pandas for structured data operations and manipulations. It is extensively used for data munging and preparation. Pandas were added relatively recently to Python and have been instrumental in boosting Python’s usage in data scientist community.\n",
    "\n",
    "5) Scikit Learn for machine learning. Built on NumPy, SciPy and matplotlib, this library contains a lot of effiecient tools for machine learning and statistical modeling including classification, regression, clustering and dimensionality reduction.\n",
    "\n",
    "6) Statsmodels for statistical modeling. Statsmodels is a Python module that allows users to explore data, estimate statistical models, and perform statistical tests. An extensive list of descriptive statistics, statistical tests, plotting functions, and result statistics are available for different types of data and each estimator.\n",
    "\n",
    "7) Seaborn for statistical data visualization. Seaborn is a library for making attractive and informative statistical graphics in Python. It is based on matplotlib. Seaborn aims to make visualization a central part of exploring and understanding data.\n",
    "\n",
    "8) Bokeh for creating interactive plots, dashboards and data applications on modern web-browsers. It empowers the user to generate elegant and concise graphics in the style of D3.js. Moreover, it has the capability of high-performance interactivity over very large or streaming datasets.\n",
    "\n",
    "9) Blaze for extending the capability of Numpy and Pandas to distributed and streaming datasets. It can be used to access data from a multitude of sources including Bcolz, MongoDB, SQLAlchemy, Apache Spark, PyTables, etc. Together with Bokeh, Blaze can act as a very powerful tool for creating effective visualizations and dashboards on huge chunks of data.\n",
    "\n",
    "10) Scrapy for web crawling. It is a very useful framework for getting specific patterns of data. It has the capability to start at a website home url and then dig through web-pages within the website to gather information.\n",
    "\n",
    "11) SymPy for symbolic computation. It has wide-ranging capabilities from basic symbolic arithmetic to calculus, algebra, discrete mathematics and quantum physics. Another useful feature is the capability of formatting the result of the computations as LaTeX code.\n",
    "\n",
    "12) Requests for accessing the web. It works similar to the the standard python library urllib2 but is much easier to code. You will find subtle differences with urllib2 but for beginners, Requests might be more convenient.\n"
   ]
  },
  {
   "cell_type": "markdown",
   "metadata": {},
   "source": [
    "# Exploratory analysis in Python using Pandas"
   ]
  },
  {
   "cell_type": "markdown",
   "metadata": {},
   "source": [
    "We will now using Pandas to read a dataset, perform exploratory analysis, adn build out first categorization algorithm for solving this problem.\n",
    "\n",
    "The two main data structures in Pandas  are Series and DataFrames.\n",
    "\n",
    "Series: i dimensional labelled / indexed array. You can access individual elements of this series through these labels.\n",
    "\n",
    "DataFrame: a spreadsheet where column names and row numbers are known as column and row index.\n",
    "\n",
    "Data sets are read into DataFrames and then various operations can be performed (e.g. group by, aggregation, etc.).\n",
    "\n",
    "More on PANDAS: http://pandas.pydata.org/pandas-docs/stable/10min.html"
   ]
  },
  {
   "cell_type": "markdown",
   "metadata": {},
   "source": [
    "INSTALLING LOAN PREDICTION DATASET"
   ]
  },
  {
   "cell_type": "markdown",
   "metadata": {},
   "source": [
    "Problem Statement\n",
    "About Company\n",
    "Dream Housing Finance company deals in all home loans. They have presence across all urban, semi urban and rural areas. Customer first apply for home loan after that company validates the customer eligibility for loan.\n",
    "\n",
    "Problem\n",
    "Company wants to automate the loan eligibility process (real time) based on customer detail provided while filling online application form. These details are Gender, Marital Status, Education, Number of Dependents, Income, Loan Amount, Credit History and others. To automate this process, they have given a problem to identify the customers segments, those are eligible for loan amount so that they can specifically target these customers. Here they have provided a partial data set.\n",
    "\n",
    "VARIABLE DESCRIPTIONS:\n",
    "Variable: Description\n",
    "Loan_ID: Unique Loan ID\n",
    "Gender: Male/ Female\n",
    "Married: Applicant married (Y/N)\n",
    "Dependents: Number of dependents\n",
    "Education: Applicant Education (Graduate/ Under Graduate)\n",
    "Self_Employed: Self employed (Y/N)\n",
    "ApplicantIncome: Applicant income\n",
    "CoapplicantIncome: Coapplicant income\n",
    "LoanAmount: Loan amount in thousands\n",
    "Loan_Amount_Term: Term of loan in months\n",
    "Credit_History: credit history meets guidelines\n",
    "Property_Area: Urban/ Semi Urban/ Rural\n",
    "Loan_Status: Loan approved (Y/N)\n",
    " \n",
    "\n",
    "Note: \n",
    "\n",
    "Evaluation Metric is accuracy i.e. percentage of loan approval you correctly predict.\n",
    "You are expected to upload the solution in the format of \"sample_submission.csv\""
   ]
  },
  {
   "cell_type": "markdown",
   "metadata": {},
   "source": [
    "To begin, start iPython interface in Inline Pylab mode by typing following on your terminal / windows command prompt:"
   ]
  },
  {
   "cell_type": "code",
   "execution_count": 44,
   "metadata": {},
   "outputs": [],
   "source": [
    "#ipython notebook --pylab=inline"
   ]
  },
  {
   "cell_type": "markdown",
   "metadata": {},
   "source": [
    "This opens up iPython notebook in pylab environment, which has a few useful libraries already imported. Also, you will be able to plot your data inline, which makes this a really good environment for interactive data analysis. You can check whether the environment has loaded correctly, by typing the following command (and getting the output as seen in the figure below):"
   ]
  },
  {
   "cell_type": "code",
   "execution_count": 46,
   "metadata": {},
   "outputs": [
    {
     "ename": "NameError",
     "evalue": "name 'plot' is not defined",
     "output_type": "error",
     "traceback": [
      "\u001b[1;31m---------------------------------------------------------------------------\u001b[0m",
      "\u001b[1;31mNameError\u001b[0m                                 Traceback (most recent call last)",
      "\u001b[1;32m<ipython-input-46-92ea6f3c022a>\u001b[0m in \u001b[0;36m<module>\u001b[1;34m()\u001b[0m\n\u001b[1;32m----> 1\u001b[1;33m \u001b[0mplot\u001b[0m\u001b[1;33m(\u001b[0m\u001b[0marrange\u001b[0m\u001b[1;33m(\u001b[0m\u001b[1;36m5\u001b[0m\u001b[1;33m)\u001b[0m\u001b[1;33m)\u001b[0m\u001b[1;33m\u001b[0m\u001b[0m\n\u001b[0m",
      "\u001b[1;31mNameError\u001b[0m: name 'plot' is not defined"
     ]
    }
   ],
   "source": [
    "plot(arrange(5))"
   ]
  },
  {
   "cell_type": "markdown",
   "metadata": {},
   "source": [
    "IMPORTING LIBRARIES"
   ]
  },
  {
   "cell_type": "code",
   "execution_count": 63,
   "metadata": {},
   "outputs": [],
   "source": [
    "import pandas as pd\n",
    "%matplotlib inline\n",
    "import numpy as np\n",
    "import matplotlib.pyplot as plt\n",
    "import datetime"
   ]
  },
  {
   "cell_type": "markdown",
   "metadata": {},
   "source": [
    "READING IN DATA FROM .CSV"
   ]
  },
  {
   "cell_type": "code",
   "execution_count": 56,
   "metadata": {},
   "outputs": [],
   "source": [
    "df = pd.read_csv(\"C:\\\\Users\\\\mbradley016\\\\Desktop\\\\PWC FY 2019\\\\Analytics Apps\\\\CIP\\\\Data Science_Methods\\\\Python Learning\\\\AnalyticsVidyha\\\\train.csv\")"
   ]
  },
  {
   "cell_type": "code",
   "execution_count": 57,
   "metadata": {},
   "outputs": [
    {
     "name": "stdout",
     "output_type": "stream",
     "text": [
      "      Loan_ID  Gender Married Dependents     Education Self_Employed  \\\n",
      "0    LP001002    Male      No          0      Graduate            No   \n",
      "1    LP001003    Male     Yes          1      Graduate            No   \n",
      "2    LP001005    Male     Yes          0      Graduate           Yes   \n",
      "3    LP001006    Male     Yes          0  Not Graduate            No   \n",
      "4    LP001008    Male      No          0      Graduate            No   \n",
      "5    LP001011    Male     Yes          2      Graduate           Yes   \n",
      "6    LP001013    Male     Yes          0  Not Graduate            No   \n",
      "7    LP001014    Male     Yes         3+      Graduate            No   \n",
      "8    LP001018    Male     Yes          2      Graduate            No   \n",
      "9    LP001020    Male     Yes          1      Graduate            No   \n",
      "10   LP001024    Male     Yes          2      Graduate            No   \n",
      "11   LP001027    Male     Yes          2      Graduate           NaN   \n",
      "12   LP001028    Male     Yes          2      Graduate            No   \n",
      "13   LP001029    Male      No          0      Graduate            No   \n",
      "14   LP001030    Male     Yes          2      Graduate            No   \n",
      "15   LP001032    Male      No          0      Graduate            No   \n",
      "16   LP001034    Male      No          1  Not Graduate            No   \n",
      "17   LP001036  Female      No          0      Graduate            No   \n",
      "18   LP001038    Male     Yes          0  Not Graduate            No   \n",
      "19   LP001041    Male     Yes          0      Graduate           NaN   \n",
      "20   LP001043    Male     Yes          0  Not Graduate            No   \n",
      "21   LP001046    Male     Yes          1      Graduate            No   \n",
      "22   LP001047    Male     Yes          0  Not Graduate            No   \n",
      "23   LP001050     NaN     Yes          2  Not Graduate            No   \n",
      "24   LP001052    Male     Yes          1      Graduate           NaN   \n",
      "25   LP001066    Male     Yes          0      Graduate           Yes   \n",
      "26   LP001068    Male     Yes          0      Graduate            No   \n",
      "27   LP001073    Male     Yes          2  Not Graduate            No   \n",
      "28   LP001086    Male      No          0  Not Graduate            No   \n",
      "29   LP001087  Female      No          2      Graduate           NaN   \n",
      "..        ...     ...     ...        ...           ...           ...   \n",
      "584  LP002911    Male     Yes          1      Graduate            No   \n",
      "585  LP002912    Male     Yes          1      Graduate            No   \n",
      "586  LP002916    Male     Yes          0      Graduate            No   \n",
      "587  LP002917  Female      No          0  Not Graduate            No   \n",
      "588  LP002925     NaN      No          0      Graduate            No   \n",
      "589  LP002926    Male     Yes          2      Graduate           Yes   \n",
      "590  LP002928    Male     Yes          0      Graduate            No   \n",
      "591  LP002931    Male     Yes          2      Graduate           Yes   \n",
      "592  LP002933     NaN      No         3+      Graduate           Yes   \n",
      "593  LP002936    Male     Yes          0      Graduate            No   \n",
      "594  LP002938    Male     Yes          0      Graduate           Yes   \n",
      "595  LP002940    Male      No          0  Not Graduate            No   \n",
      "596  LP002941    Male     Yes          2  Not Graduate           Yes   \n",
      "597  LP002943    Male      No        NaN      Graduate            No   \n",
      "598  LP002945    Male     Yes          0      Graduate           Yes   \n",
      "599  LP002948    Male     Yes          2      Graduate            No   \n",
      "600  LP002949  Female      No         3+      Graduate           NaN   \n",
      "601  LP002950    Male     Yes          0  Not Graduate           NaN   \n",
      "602  LP002953    Male     Yes         3+      Graduate            No   \n",
      "603  LP002958    Male      No          0      Graduate            No   \n",
      "604  LP002959  Female     Yes          1      Graduate            No   \n",
      "605  LP002960    Male     Yes          0  Not Graduate            No   \n",
      "606  LP002961    Male     Yes          1      Graduate            No   \n",
      "607  LP002964    Male     Yes          2  Not Graduate            No   \n",
      "608  LP002974    Male     Yes          0      Graduate            No   \n",
      "609  LP002978  Female      No          0      Graduate            No   \n",
      "610  LP002979    Male     Yes         3+      Graduate            No   \n",
      "611  LP002983    Male     Yes          1      Graduate            No   \n",
      "612  LP002984    Male     Yes          2      Graduate            No   \n",
      "613  LP002990  Female      No          0      Graduate           Yes   \n",
      "\n",
      "     ApplicantIncome  CoapplicantIncome  LoanAmount  Loan_Amount_Term  \\\n",
      "0               5849                0.0         NaN             360.0   \n",
      "1               4583             1508.0       128.0             360.0   \n",
      "2               3000                0.0        66.0             360.0   \n",
      "3               2583             2358.0       120.0             360.0   \n",
      "4               6000                0.0       141.0             360.0   \n",
      "5               5417             4196.0       267.0             360.0   \n",
      "6               2333             1516.0        95.0             360.0   \n",
      "7               3036             2504.0       158.0             360.0   \n",
      "8               4006             1526.0       168.0             360.0   \n",
      "9              12841            10968.0       349.0             360.0   \n",
      "10              3200              700.0        70.0             360.0   \n",
      "11              2500             1840.0       109.0             360.0   \n",
      "12              3073             8106.0       200.0             360.0   \n",
      "13              1853             2840.0       114.0             360.0   \n",
      "14              1299             1086.0        17.0             120.0   \n",
      "15              4950                0.0       125.0             360.0   \n",
      "16              3596                0.0       100.0             240.0   \n",
      "17              3510                0.0        76.0             360.0   \n",
      "18              4887                0.0       133.0             360.0   \n",
      "19              2600             3500.0       115.0               NaN   \n",
      "20              7660                0.0       104.0             360.0   \n",
      "21              5955             5625.0       315.0             360.0   \n",
      "22              2600             1911.0       116.0             360.0   \n",
      "23              3365             1917.0       112.0             360.0   \n",
      "24              3717             2925.0       151.0             360.0   \n",
      "25              9560                0.0       191.0             360.0   \n",
      "26              2799             2253.0       122.0             360.0   \n",
      "27              4226             1040.0       110.0             360.0   \n",
      "28              1442                0.0        35.0             360.0   \n",
      "29              3750             2083.0       120.0             360.0   \n",
      "..               ...                ...         ...               ...   \n",
      "584             2787             1917.0       146.0             360.0   \n",
      "585             4283             3000.0       172.0              84.0   \n",
      "586             2297             1522.0       104.0             360.0   \n",
      "587             2165                0.0        70.0             360.0   \n",
      "588             4750                0.0        94.0             360.0   \n",
      "589             2726                0.0       106.0             360.0   \n",
      "590             3000             3416.0        56.0             180.0   \n",
      "591             6000                0.0       205.0             240.0   \n",
      "592             9357                0.0       292.0             360.0   \n",
      "593             3859             3300.0       142.0             180.0   \n",
      "594            16120                0.0       260.0             360.0   \n",
      "595             3833                0.0       110.0             360.0   \n",
      "596             6383             1000.0       187.0             360.0   \n",
      "597             2987                0.0        88.0             360.0   \n",
      "598             9963                0.0       180.0             360.0   \n",
      "599             5780                0.0       192.0             360.0   \n",
      "600              416            41667.0       350.0             180.0   \n",
      "601             2894             2792.0       155.0             360.0   \n",
      "602             5703                0.0       128.0             360.0   \n",
      "603             3676             4301.0       172.0             360.0   \n",
      "604            12000                0.0       496.0             360.0   \n",
      "605             2400             3800.0         NaN             180.0   \n",
      "606             3400             2500.0       173.0             360.0   \n",
      "607             3987             1411.0       157.0             360.0   \n",
      "608             3232             1950.0       108.0             360.0   \n",
      "609             2900                0.0        71.0             360.0   \n",
      "610             4106                0.0        40.0             180.0   \n",
      "611             8072              240.0       253.0             360.0   \n",
      "612             7583                0.0       187.0             360.0   \n",
      "613             4583                0.0       133.0             360.0   \n",
      "\n",
      "     Credit_History Property_Area Loan_Status  \n",
      "0               1.0         Urban           Y  \n",
      "1               1.0         Rural           N  \n",
      "2               1.0         Urban           Y  \n",
      "3               1.0         Urban           Y  \n",
      "4               1.0         Urban           Y  \n",
      "5               1.0         Urban           Y  \n",
      "6               1.0         Urban           Y  \n",
      "7               0.0     Semiurban           N  \n",
      "8               1.0         Urban           Y  \n",
      "9               1.0     Semiurban           N  \n",
      "10              1.0         Urban           Y  \n",
      "11              1.0         Urban           Y  \n",
      "12              1.0         Urban           Y  \n",
      "13              1.0         Rural           N  \n",
      "14              1.0         Urban           Y  \n",
      "15              1.0         Urban           Y  \n",
      "16              NaN         Urban           Y  \n",
      "17              0.0         Urban           N  \n",
      "18              1.0         Rural           N  \n",
      "19              1.0         Urban           Y  \n",
      "20              0.0         Urban           N  \n",
      "21              1.0         Urban           Y  \n",
      "22              0.0     Semiurban           N  \n",
      "23              0.0         Rural           N  \n",
      "24              NaN     Semiurban           N  \n",
      "25              1.0     Semiurban           Y  \n",
      "26              1.0     Semiurban           Y  \n",
      "27              1.0         Urban           Y  \n",
      "28              1.0         Urban           N  \n",
      "29              1.0     Semiurban           Y  \n",
      "..              ...           ...         ...  \n",
      "584             0.0         Rural           N  \n",
      "585             1.0         Rural           N  \n",
      "586             1.0         Urban           Y  \n",
      "587             1.0     Semiurban           Y  \n",
      "588             1.0     Semiurban           Y  \n",
      "589             0.0     Semiurban           N  \n",
      "590             1.0     Semiurban           Y  \n",
      "591             1.0     Semiurban           N  \n",
      "592             1.0     Semiurban           Y  \n",
      "593             1.0         Rural           Y  \n",
      "594             1.0         Urban           Y  \n",
      "595             1.0         Rural           Y  \n",
      "596             1.0         Rural           N  \n",
      "597             0.0     Semiurban           N  \n",
      "598             1.0         Rural           Y  \n",
      "599             1.0         Urban           Y  \n",
      "600             NaN         Urban           N  \n",
      "601             1.0         Rural           Y  \n",
      "602             1.0         Urban           Y  \n",
      "603             1.0         Rural           Y  \n",
      "604             1.0     Semiurban           Y  \n",
      "605             1.0         Urban           N  \n",
      "606             1.0     Semiurban           Y  \n",
      "607             1.0         Rural           Y  \n",
      "608             1.0         Rural           Y  \n",
      "609             1.0         Rural           Y  \n",
      "610             1.0         Rural           Y  \n",
      "611             1.0         Urban           Y  \n",
      "612             1.0         Urban           Y  \n",
      "613             0.0     Semiurban           N  \n",
      "\n",
      "[614 rows x 13 columns]\n"
     ]
    }
   ],
   "source": [
    "print(df)"
   ]
  },
  {
   "cell_type": "code",
   "execution_count": 58,
   "metadata": {},
   "outputs": [
    {
     "data": {
      "text/html": [
       "<div>\n",
       "<style scoped>\n",
       "    .dataframe tbody tr th:only-of-type {\n",
       "        vertical-align: middle;\n",
       "    }\n",
       "\n",
       "    .dataframe tbody tr th {\n",
       "        vertical-align: top;\n",
       "    }\n",
       "\n",
       "    .dataframe thead th {\n",
       "        text-align: right;\n",
       "    }\n",
       "</style>\n",
       "<table border=\"1\" class=\"dataframe\">\n",
       "  <thead>\n",
       "    <tr style=\"text-align: right;\">\n",
       "      <th></th>\n",
       "      <th>Loan_ID</th>\n",
       "      <th>Gender</th>\n",
       "      <th>Married</th>\n",
       "      <th>Dependents</th>\n",
       "      <th>Education</th>\n",
       "      <th>Self_Employed</th>\n",
       "      <th>ApplicantIncome</th>\n",
       "      <th>CoapplicantIncome</th>\n",
       "      <th>LoanAmount</th>\n",
       "      <th>Loan_Amount_Term</th>\n",
       "      <th>Credit_History</th>\n",
       "      <th>Property_Area</th>\n",
       "      <th>Loan_Status</th>\n",
       "    </tr>\n",
       "  </thead>\n",
       "  <tbody>\n",
       "    <tr>\n",
       "      <th>0</th>\n",
       "      <td>LP001002</td>\n",
       "      <td>Male</td>\n",
       "      <td>No</td>\n",
       "      <td>0</td>\n",
       "      <td>Graduate</td>\n",
       "      <td>No</td>\n",
       "      <td>5849</td>\n",
       "      <td>0.0</td>\n",
       "      <td>NaN</td>\n",
       "      <td>360.0</td>\n",
       "      <td>1.0</td>\n",
       "      <td>Urban</td>\n",
       "      <td>Y</td>\n",
       "    </tr>\n",
       "    <tr>\n",
       "      <th>1</th>\n",
       "      <td>LP001003</td>\n",
       "      <td>Male</td>\n",
       "      <td>Yes</td>\n",
       "      <td>1</td>\n",
       "      <td>Graduate</td>\n",
       "      <td>No</td>\n",
       "      <td>4583</td>\n",
       "      <td>1508.0</td>\n",
       "      <td>128.0</td>\n",
       "      <td>360.0</td>\n",
       "      <td>1.0</td>\n",
       "      <td>Rural</td>\n",
       "      <td>N</td>\n",
       "    </tr>\n",
       "    <tr>\n",
       "      <th>2</th>\n",
       "      <td>LP001005</td>\n",
       "      <td>Male</td>\n",
       "      <td>Yes</td>\n",
       "      <td>0</td>\n",
       "      <td>Graduate</td>\n",
       "      <td>Yes</td>\n",
       "      <td>3000</td>\n",
       "      <td>0.0</td>\n",
       "      <td>66.0</td>\n",
       "      <td>360.0</td>\n",
       "      <td>1.0</td>\n",
       "      <td>Urban</td>\n",
       "      <td>Y</td>\n",
       "    </tr>\n",
       "    <tr>\n",
       "      <th>3</th>\n",
       "      <td>LP001006</td>\n",
       "      <td>Male</td>\n",
       "      <td>Yes</td>\n",
       "      <td>0</td>\n",
       "      <td>Not Graduate</td>\n",
       "      <td>No</td>\n",
       "      <td>2583</td>\n",
       "      <td>2358.0</td>\n",
       "      <td>120.0</td>\n",
       "      <td>360.0</td>\n",
       "      <td>1.0</td>\n",
       "      <td>Urban</td>\n",
       "      <td>Y</td>\n",
       "    </tr>\n",
       "    <tr>\n",
       "      <th>4</th>\n",
       "      <td>LP001008</td>\n",
       "      <td>Male</td>\n",
       "      <td>No</td>\n",
       "      <td>0</td>\n",
       "      <td>Graduate</td>\n",
       "      <td>No</td>\n",
       "      <td>6000</td>\n",
       "      <td>0.0</td>\n",
       "      <td>141.0</td>\n",
       "      <td>360.0</td>\n",
       "      <td>1.0</td>\n",
       "      <td>Urban</td>\n",
       "      <td>Y</td>\n",
       "    </tr>\n",
       "    <tr>\n",
       "      <th>5</th>\n",
       "      <td>LP001011</td>\n",
       "      <td>Male</td>\n",
       "      <td>Yes</td>\n",
       "      <td>2</td>\n",
       "      <td>Graduate</td>\n",
       "      <td>Yes</td>\n",
       "      <td>5417</td>\n",
       "      <td>4196.0</td>\n",
       "      <td>267.0</td>\n",
       "      <td>360.0</td>\n",
       "      <td>1.0</td>\n",
       "      <td>Urban</td>\n",
       "      <td>Y</td>\n",
       "    </tr>\n",
       "    <tr>\n",
       "      <th>6</th>\n",
       "      <td>LP001013</td>\n",
       "      <td>Male</td>\n",
       "      <td>Yes</td>\n",
       "      <td>0</td>\n",
       "      <td>Not Graduate</td>\n",
       "      <td>No</td>\n",
       "      <td>2333</td>\n",
       "      <td>1516.0</td>\n",
       "      <td>95.0</td>\n",
       "      <td>360.0</td>\n",
       "      <td>1.0</td>\n",
       "      <td>Urban</td>\n",
       "      <td>Y</td>\n",
       "    </tr>\n",
       "    <tr>\n",
       "      <th>7</th>\n",
       "      <td>LP001014</td>\n",
       "      <td>Male</td>\n",
       "      <td>Yes</td>\n",
       "      <td>3+</td>\n",
       "      <td>Graduate</td>\n",
       "      <td>No</td>\n",
       "      <td>3036</td>\n",
       "      <td>2504.0</td>\n",
       "      <td>158.0</td>\n",
       "      <td>360.0</td>\n",
       "      <td>0.0</td>\n",
       "      <td>Semiurban</td>\n",
       "      <td>N</td>\n",
       "    </tr>\n",
       "    <tr>\n",
       "      <th>8</th>\n",
       "      <td>LP001018</td>\n",
       "      <td>Male</td>\n",
       "      <td>Yes</td>\n",
       "      <td>2</td>\n",
       "      <td>Graduate</td>\n",
       "      <td>No</td>\n",
       "      <td>4006</td>\n",
       "      <td>1526.0</td>\n",
       "      <td>168.0</td>\n",
       "      <td>360.0</td>\n",
       "      <td>1.0</td>\n",
       "      <td>Urban</td>\n",
       "      <td>Y</td>\n",
       "    </tr>\n",
       "    <tr>\n",
       "      <th>9</th>\n",
       "      <td>LP001020</td>\n",
       "      <td>Male</td>\n",
       "      <td>Yes</td>\n",
       "      <td>1</td>\n",
       "      <td>Graduate</td>\n",
       "      <td>No</td>\n",
       "      <td>12841</td>\n",
       "      <td>10968.0</td>\n",
       "      <td>349.0</td>\n",
       "      <td>360.0</td>\n",
       "      <td>1.0</td>\n",
       "      <td>Semiurban</td>\n",
       "      <td>N</td>\n",
       "    </tr>\n",
       "  </tbody>\n",
       "</table>\n",
       "</div>"
      ],
      "text/plain": [
       "    Loan_ID Gender Married Dependents     Education Self_Employed  \\\n",
       "0  LP001002   Male      No          0      Graduate            No   \n",
       "1  LP001003   Male     Yes          1      Graduate            No   \n",
       "2  LP001005   Male     Yes          0      Graduate           Yes   \n",
       "3  LP001006   Male     Yes          0  Not Graduate            No   \n",
       "4  LP001008   Male      No          0      Graduate            No   \n",
       "5  LP001011   Male     Yes          2      Graduate           Yes   \n",
       "6  LP001013   Male     Yes          0  Not Graduate            No   \n",
       "7  LP001014   Male     Yes         3+      Graduate            No   \n",
       "8  LP001018   Male     Yes          2      Graduate            No   \n",
       "9  LP001020   Male     Yes          1      Graduate            No   \n",
       "\n",
       "   ApplicantIncome  CoapplicantIncome  LoanAmount  Loan_Amount_Term  \\\n",
       "0             5849                0.0         NaN             360.0   \n",
       "1             4583             1508.0       128.0             360.0   \n",
       "2             3000                0.0        66.0             360.0   \n",
       "3             2583             2358.0       120.0             360.0   \n",
       "4             6000                0.0       141.0             360.0   \n",
       "5             5417             4196.0       267.0             360.0   \n",
       "6             2333             1516.0        95.0             360.0   \n",
       "7             3036             2504.0       158.0             360.0   \n",
       "8             4006             1526.0       168.0             360.0   \n",
       "9            12841            10968.0       349.0             360.0   \n",
       "\n",
       "   Credit_History Property_Area Loan_Status  \n",
       "0             1.0         Urban           Y  \n",
       "1             1.0         Rural           N  \n",
       "2             1.0         Urban           Y  \n",
       "3             1.0         Urban           Y  \n",
       "4             1.0         Urban           Y  \n",
       "5             1.0         Urban           Y  \n",
       "6             1.0         Urban           Y  \n",
       "7             0.0     Semiurban           N  \n",
       "8             1.0         Urban           Y  \n",
       "9             1.0     Semiurban           N  "
      ]
     },
     "execution_count": 58,
     "metadata": {},
     "output_type": "execute_result"
    }
   ],
   "source": [
    "# Looking at the first top rows of the data using head()\n",
    "df.head(10)"
   ]
  },
  {
   "cell_type": "code",
   "execution_count": 59,
   "metadata": {},
   "outputs": [
    {
     "data": {
      "text/html": [
       "<div>\n",
       "<style scoped>\n",
       "    .dataframe tbody tr th:only-of-type {\n",
       "        vertical-align: middle;\n",
       "    }\n",
       "\n",
       "    .dataframe tbody tr th {\n",
       "        vertical-align: top;\n",
       "    }\n",
       "\n",
       "    .dataframe thead th {\n",
       "        text-align: right;\n",
       "    }\n",
       "</style>\n",
       "<table border=\"1\" class=\"dataframe\">\n",
       "  <thead>\n",
       "    <tr style=\"text-align: right;\">\n",
       "      <th></th>\n",
       "      <th>ApplicantIncome</th>\n",
       "      <th>CoapplicantIncome</th>\n",
       "      <th>LoanAmount</th>\n",
       "      <th>Loan_Amount_Term</th>\n",
       "      <th>Credit_History</th>\n",
       "    </tr>\n",
       "  </thead>\n",
       "  <tbody>\n",
       "    <tr>\n",
       "      <th>count</th>\n",
       "      <td>614.000000</td>\n",
       "      <td>614.000000</td>\n",
       "      <td>592.000000</td>\n",
       "      <td>600.00000</td>\n",
       "      <td>564.000000</td>\n",
       "    </tr>\n",
       "    <tr>\n",
       "      <th>mean</th>\n",
       "      <td>5403.459283</td>\n",
       "      <td>1621.245798</td>\n",
       "      <td>146.412162</td>\n",
       "      <td>342.00000</td>\n",
       "      <td>0.842199</td>\n",
       "    </tr>\n",
       "    <tr>\n",
       "      <th>std</th>\n",
       "      <td>6109.041673</td>\n",
       "      <td>2926.248369</td>\n",
       "      <td>85.587325</td>\n",
       "      <td>65.12041</td>\n",
       "      <td>0.364878</td>\n",
       "    </tr>\n",
       "    <tr>\n",
       "      <th>min</th>\n",
       "      <td>150.000000</td>\n",
       "      <td>0.000000</td>\n",
       "      <td>9.000000</td>\n",
       "      <td>12.00000</td>\n",
       "      <td>0.000000</td>\n",
       "    </tr>\n",
       "    <tr>\n",
       "      <th>25%</th>\n",
       "      <td>2877.500000</td>\n",
       "      <td>0.000000</td>\n",
       "      <td>100.000000</td>\n",
       "      <td>360.00000</td>\n",
       "      <td>1.000000</td>\n",
       "    </tr>\n",
       "    <tr>\n",
       "      <th>50%</th>\n",
       "      <td>3812.500000</td>\n",
       "      <td>1188.500000</td>\n",
       "      <td>128.000000</td>\n",
       "      <td>360.00000</td>\n",
       "      <td>1.000000</td>\n",
       "    </tr>\n",
       "    <tr>\n",
       "      <th>75%</th>\n",
       "      <td>5795.000000</td>\n",
       "      <td>2297.250000</td>\n",
       "      <td>168.000000</td>\n",
       "      <td>360.00000</td>\n",
       "      <td>1.000000</td>\n",
       "    </tr>\n",
       "    <tr>\n",
       "      <th>max</th>\n",
       "      <td>81000.000000</td>\n",
       "      <td>41667.000000</td>\n",
       "      <td>700.000000</td>\n",
       "      <td>480.00000</td>\n",
       "      <td>1.000000</td>\n",
       "    </tr>\n",
       "  </tbody>\n",
       "</table>\n",
       "</div>"
      ],
      "text/plain": [
       "       ApplicantIncome  CoapplicantIncome  LoanAmount  Loan_Amount_Term  \\\n",
       "count       614.000000         614.000000  592.000000         600.00000   \n",
       "mean       5403.459283        1621.245798  146.412162         342.00000   \n",
       "std        6109.041673        2926.248369   85.587325          65.12041   \n",
       "min         150.000000           0.000000    9.000000          12.00000   \n",
       "25%        2877.500000           0.000000  100.000000         360.00000   \n",
       "50%        3812.500000        1188.500000  128.000000         360.00000   \n",
       "75%        5795.000000        2297.250000  168.000000         360.00000   \n",
       "max       81000.000000       41667.000000  700.000000         480.00000   \n",
       "\n",
       "       Credit_History  \n",
       "count      564.000000  \n",
       "mean         0.842199  \n",
       "std          0.364878  \n",
       "min          0.000000  \n",
       "25%          1.000000  \n",
       "50%          1.000000  \n",
       "75%          1.000000  \n",
       "max          1.000000  "
      ]
     },
     "execution_count": 59,
     "metadata": {},
     "output_type": "execute_result"
    }
   ],
   "source": [
    "df.describe() #Get summary of numerical variables"
   ]
  },
  {
   "cell_type": "code",
   "execution_count": 60,
   "metadata": {},
   "outputs": [
    {
     "data": {
      "text/plain": [
       "Semiurban    233\n",
       "Urban        202\n",
       "Rural        179\n",
       "Name: Property_Area, dtype: int64"
      ]
     },
     "execution_count": 60,
     "metadata": {},
     "output_type": "execute_result"
    }
   ],
   "source": [
    "df['Property_Area'].value_counts() #Frequencies for categorical variables"
   ]
  },
  {
   "cell_type": "code",
   "execution_count": 61,
   "metadata": {},
   "outputs": [
    {
     "ename": "NameError",
     "evalue": "name 'dfname' is not defined",
     "output_type": "error",
     "traceback": [
      "\u001b[1;31m---------------------------------------------------------------------------\u001b[0m",
      "\u001b[1;31mNameError\u001b[0m                                 Traceback (most recent call last)",
      "\u001b[1;32m<ipython-input-61-430cc004b231>\u001b[0m in \u001b[0;36m<module>\u001b[1;34m()\u001b[0m\n\u001b[1;32m----> 1\u001b[1;33m \u001b[0mdfname\u001b[0m\u001b[1;33m(\u001b[0m\u001b[1;34m'Gender'\u001b[0m\u001b[1;33m)\u001b[0m \u001b[1;31m#Access a particular column in the dataframe\u001b[0m\u001b[1;33m\u001b[0m\u001b[0m\n\u001b[0m",
      "\u001b[1;31mNameError\u001b[0m: name 'dfname' is not defined"
     ]
    }
   ],
   "source": [
    "dfname('Gender') #Access a particular column in the dataframe"
   ]
  },
  {
   "cell_type": "markdown",
   "metadata": {},
   "source": [
    "DISTRIBUTION ANALYSIS"
   ]
  },
  {
   "cell_type": "code",
   "execution_count": 64,
   "metadata": {},
   "outputs": [
    {
     "data": {
      "text/plain": [
       "<matplotlib.axes._subplots.AxesSubplot at 0x28e55ad68d0>"
      ]
     },
     "execution_count": 64,
     "metadata": {},
     "output_type": "execute_result"
    },
    {
     "data": {
      "image/png": "[encoded data removed]",
      "text/plain": [
       "<matplotlib.figure.Figure at 0x28e55598978>"
      ]
     },
     "metadata": {},
     "output_type": "display_data"
    }
   ],
   "source": [
    "df['ApplicantIncome'].hist(bins=50) #Histogram of Applicant Income"
   ]
  },
  {
   "cell_type": "code",
   "execution_count": 65,
   "metadata": {},
   "outputs": [
    {
     "data": {
      "text/plain": [
       "<matplotlib.axes._subplots.AxesSubplot at 0x28e55ae1128>"
      ]
     },
     "execution_count": 65,
     "metadata": {},
     "output_type": "execute_result"
    },
    {
     "data": {
      "image/png": "[encoded data removed]",
      "text/plain": [
       "<matplotlib.figure.Figure at 0x28e55b95ba8>"
      ]
     },
     "metadata": {},
     "output_type": "display_data"
    }
   ],
   "source": [
    "df.boxplot(column='ApplicantIncome') #Plotting boxplots - shows many low incomes"
   ]
  },
  {
   "cell_type": "code",
   "execution_count": 67,
   "metadata": {},
   "outputs": [
    {
     "data": {
      "text/plain": [
       "<matplotlib.axes._subplots.AxesSubplot at 0x28e55c425f8>"
      ]
     },
     "execution_count": 67,
     "metadata": {},
     "output_type": "execute_result"
    },
    {
     "data": {
      "image/png": "[encoded data removed]",
      "text/plain": [
       "<matplotlib.figure.Figure at 0x28e56c77160>"
      ]
     },
     "metadata": {},
     "output_type": "display_data"
    }
   ],
   "source": [
    "df.boxplot(column='ApplicantIncome', by = 'Education') #Boxplot grouped by education- graduate -non graduate same - but some high outlier incomes for graduates "
   ]
  },
  {
   "cell_type": "code",
   "execution_count": 70,
   "metadata": {},
   "outputs": [
    {
     "data": {
      "text/plain": [
       "<matplotlib.axes._subplots.AxesSubplot at 0x28e55c1fe48>"
      ]
     },
     "execution_count": 70,
     "metadata": {},
     "output_type": "execute_result"
    },
    {
     "data": {
      "image/png": "[encoded data removed]",
      "text/plain": [
       "<matplotlib.figure.Figure at 0x28e56ca2e10>"
      ]
     },
     "metadata": {},
     "output_type": "display_data"
    }
   ],
   "source": [
    "df['LoanAmount'].hist(bins=50) #Looking at Loan Amount"
   ]
  },
  {
   "cell_type": "code",
   "execution_count": 71,
   "metadata": {},
   "outputs": [
    {
     "data": {
      "text/plain": [
       "<matplotlib.axes._subplots.AxesSubplot at 0x28e56d36320>"
      ]
     },
     "execution_count": 71,
     "metadata": {},
     "output_type": "execute_result"
    },
    {
     "data": {
      "image/png": "[encoded data removed]",
      "text/plain": [
       "<matplotlib.figure.Figure at 0x28e56dccba8>"
      ]
     },
     "metadata": {},
     "output_type": "display_data"
    }
   ],
   "source": [
    "df.boxplot(column='LoanAmount') # There are some extreme value in Loan Amount -  needs data munging"
   ]
  },
  {
   "cell_type": "markdown",
   "metadata": {},
   "source": [
    "CATEGORICAL VARIABLE ANLAYSIS"
   ]
  },
  {
   "cell_type": "markdown",
   "metadata": {},
   "source": [
    "Here, we will be doing a pivot for Average of Loan Status (actuall Pr of Loan Status) by Credit History"
   ]
  },
  {
   "cell_type": "markdown",
   "metadata": {},
   "source": [
    "Data Munging in PANDAS https://www.analyticsvidhya.com/blog/2016/01/12-pandas-techniques-python-data-manipulation/"
   ]
  },
  {
   "cell_type": "code",
   "execution_count": 79,
   "metadata": {},
   "outputs": [
    {
     "name": "stdout",
     "output_type": "stream",
     "text": [
      "Frequency Table for Credit History:\n",
      "0.0     89\n",
      "1.0    475\n",
      "Name: Credit_History, dtype: int64\n",
      "\n",
      "Probability of getting loan for each Credit History class:\n",
      "                Loan_Status\n",
      "Credit_History             \n",
      "0.0                0.078652\n",
      "1.0                0.795789\n"
     ]
    }
   ],
   "source": [
    "temp1 = df['Credit_History'].value_counts(ascending=True)\n",
    "temp2 = df.pivot_table(values='Loan_Status', index=['Credit_History'], aggfunc=lambda x: x.map\n",
    "({'Y' :1, 'N' :0}).mean())\n",
    "print ('Frequency Table for Credit History:')\n",
    "print (temp1)\n",
    "\n",
    "print ('\\nProbability of getting loan for each Credit History class:')\n",
    "print (temp2)"
   ]
  },
  {
   "cell_type": "code",
   "execution_count": 85,
   "metadata": {},
   "outputs": [
    {
     "data": {
      "text/plain": [
       "<matplotlib.axes._subplots.AxesSubplot at 0x28e575a67f0>"
      ]
     },
     "execution_count": 85,
     "metadata": {},
     "output_type": "execute_result"
    },
    {
     "data": {
      "image/png": "[encoded data removed]",
      "text/plain": [
       "<matplotlib.figure.Figure at 0x28e57460588>"
      ]
     },
     "metadata": {},
     "output_type": "display_data"
    },
    {
     "data": {
      "image/png": "[encoded data removed]",
      "text/plain": [
       "<matplotlib.figure.Figure at 0x28e57560d30>"
      ]
     },
     "metadata": {},
     "output_type": "display_data"
    },
    {
     "data": {
      "image/png": "[encoded data removed]",
      "text/plain": [
       "<matplotlib.figure.Figure at 0x28e575a6208>"
      ]
     },
     "metadata": {},
     "output_type": "display_data"
    }
   ],
   "source": [
    "#Visualizing output of Pivot\n",
    "\n",
    "import matplotlib.pyplot as plt\n",
    "fig = plt.figure(figsize=(8,4))\n",
    "ax1 = fig.add_subplot(121)\n",
    "ax1.set_xlabel('Credit_History')\n",
    "ax1.set_ylabel('Count of Applicants')\n",
    "ax1.set_title(\"Applicants by Credit_History\")\n",
    "temp1.plot(kind='bar')\n",
    "\n",
    "fig = plt.figure(figsize=(8,4))\n",
    "ax2 = fig.add_subplot(121)\n",
    "ax2.set_xlabel('Credit_History')\n",
    "ax2.set_ylabel('Probability of getting loan')\n",
    "ax2.set_title(\"Probability of getting loan by credit history\")\n",
    "temp2.plot(kind = 'bar')\n"
   ]
  },
  {
   "cell_type": "markdown",
   "metadata": {},
   "source": [
    "There are many more applicants with a credit history that meets guidelines.\n",
    "Pr of getting a loan is 8x higher for those where credit history meets guidelines."
   ]
  },
  {
   "cell_type": "code",
   "execution_count": 87,
   "metadata": {},
   "outputs": [
    {
     "data": {
      "text/plain": [
       "<matplotlib.axes._subplots.AxesSubplot at 0x28e56ed76a0>"
      ]
     },
     "execution_count": 87,
     "metadata": {},
     "output_type": "execute_result"
    },
    {
     "data": {
      "image/png": "[encoded data removed]",
      "text/plain": [
       "<matplotlib.figure.Figure at 0x28e58612048>"
      ]
     },
     "metadata": {},
     "output_type": "display_data"
    }
   ],
   "source": [
    "# Stacked Bar same data as above\n",
    "\n",
    "temp3 = pd.crosstab(df['Credit_History'], df['Loan_Status'])\n",
    "temp3.plot(kind='bar', stacked=True, color=['red','blue'], grid=False)"
   ]
  },
  {
   "cell_type": "markdown",
   "metadata": {},
   "source": [
    "# Data Munging in Python"
   ]
  },
  {
   "cell_type": "markdown",
   "metadata": {},
   "source": [
    "https://www.analyticsvidhya.com/blog/2014/09/data-munging-python-using-pandas-baby-steps-python/"
   ]
  },
  {
   "cell_type": "markdown",
   "metadata": {},
   "source": [
    "There are missing values in some variables and there are extreme values in ApplicantIncome and LoanAmount."
   ]
  },
  {
   "cell_type": "markdown",
   "metadata": {},
   "source": [
    "FILTER VALUES OF ONE COLUMN BY VALUES OF ANOTHER"
   ]
  },
  {
   "cell_type": "code",
   "execution_count": 90,
   "metadata": {},
   "outputs": [
    {
     "ename": "SyntaxError",
     "evalue": "invalid syntax (<ipython-input-90-8bb827b185e7>, line 3)",
     "output_type": "error",
     "traceback": [
      "\u001b[1;36m  File \u001b[1;32m\"<ipython-input-90-8bb827b185e7>\"\u001b[1;36m, line \u001b[1;32m3\u001b[0m\n\u001b[1;33m    df1 = data.loc[(data[\"Gender\"]==\"Female\") & (data[\"Education\"]==\"Not Graduate\") & (data[\"Loan_Status\"]=\"Y\"), [\"Gender\",\"Education\",\"Loan_Status\"]]\u001b[0m\n\u001b[1;37m                                                                                                          ^\u001b[0m\n\u001b[1;31mSyntaxError\u001b[0m\u001b[1;31m:\u001b[0m invalid syntax\n"
     ]
    }
   ],
   "source": [
    "# Want all females who are not graduate and got a loan\n",
    "\n",
    "df1 = data.loc[(data[\"Gender\"]==\"Female\") & (data[\"Education\"]==\"Not Graduate\") & (data[\"Loan_Status\"]=\"Y\"), [\"Gender\",\"Education\",\"Loan_Status\"]]"
   ]
  },
  {
   "cell_type": "markdown",
   "metadata": {},
   "source": [
    "CHECKING MISSING VALUES IN THE DATASET"
   ]
  },
  {
   "cell_type": "code",
   "execution_count": 143,
   "metadata": {},
   "outputs": [
    {
     "data": {
      "text/plain": [
       "0"
      ]
     },
     "execution_count": 143,
     "metadata": {},
     "output_type": "execute_result"
    }
   ],
   "source": [
    "sum(df['property_area_num'].isnull())"
   ]
  },
  {
   "cell_type": "markdown",
   "metadata": {},
   "source": [
    "REPLACING MISSING VALUES BY MEAN"
   ]
  },
  {
   "cell_type": "code",
   "execution_count": 147,
   "metadata": {},
   "outputs": [
    {
     "data": {
      "text/plain": [
       "0"
      ]
     },
     "execution_count": 147,
     "metadata": {},
     "output_type": "execute_result"
    }
   ],
   "source": [
    "meangender_num = np.mean(df.gender_num)\n",
    "df.gender_num = df.gender_num.fillna(meangender_num)\n",
    "sum(df['gender_num'].isnull())"
   ]
  },
  {
   "cell_type": "code",
   "execution_count": 96,
   "metadata": {},
   "outputs": [
    {
     "data": {
      "text/plain": [
       "0"
      ]
     },
     "execution_count": 96,
     "metadata": {},
     "output_type": "execute_result"
    }
   ],
   "source": [
    "meanCredit_History = np.mean(df.Credit_History)\n",
    "df.Credit_History = df.Credit_History.fillna(meanCredit_History)\n",
    "sum(df['Credit_History'].isnull())"
   ]
  },
  {
   "cell_type": "markdown",
   "metadata": {},
   "source": [
    "Good filter resource https://pythonspot.com/pandas-filter/"
   ]
  },
  {
   "cell_type": "markdown",
   "metadata": {},
   "source": [
    "DEALING WITH EXTREME VALUES"
   ]
  },
  {
   "cell_type": "markdown",
   "metadata": {},
   "source": [
    "Using a log transformation to balance out the outliers - then looking at the revised histogram"
   ]
  },
  {
   "cell_type": "code",
   "execution_count": 97,
   "metadata": {},
   "outputs": [
    {
     "data": {
      "text/plain": [
       "<matplotlib.axes._subplots.AxesSubplot at 0x28e573c6710>"
      ]
     },
     "execution_count": 97,
     "metadata": {},
     "output_type": "execute_result"
    },
    {
     "data": {
      "image/png": "[encoded data removed]",
      "text/plain": [
       "<matplotlib.figure.Figure at 0x28e5743e048>"
      ]
     },
     "metadata": {},
     "output_type": "display_data"
    }
   ],
   "source": [
    "df['LoanAmount_log'] = np.log(df['LoanAmount'])\n",
    "df['LoanAmount_log'].hist(bins=20)"
   ]
  },
  {
   "cell_type": "markdown",
   "metadata": {},
   "source": [
    "Coming to ApplicantIncome. One intuition can be that some applicants have lower income but strong support Co-applicants. So it might be a good idea to combine both incomes as total income and take a log transformation of the same."
   ]
  },
  {
   "cell_type": "code",
   "execution_count": 98,
   "metadata": {},
   "outputs": [
    {
     "data": {
      "text/plain": [
       "<matplotlib.axes._subplots.AxesSubplot at 0x28e5719ee80>"
      ]
     },
     "execution_count": 98,
     "metadata": {},
     "output_type": "execute_result"
    },
    {
     "data": {
      "image/png": "[encoded data removed]",
      "text/plain": [
       "<matplotlib.figure.Figure at 0x28e5739c898>"
      ]
     },
     "metadata": {},
     "output_type": "display_data"
    }
   ],
   "source": [
    "df['TotalIncome'] = df['ApplicantIncome'] + df['CoapplicantIncome']\n",
    "df['TotalIncome_log'] = np.log(df['TotalIncome'])\n",
    "df['LoanAmount_log'].hist(bins=20)"
   ]
  },
  {
   "cell_type": "markdown",
   "metadata": {},
   "source": [
    "# Building Predictive Models in Python"
   ]
  },
  {
   "cell_type": "markdown",
   "metadata": {},
   "source": [
    "Skicit-Learn (sklearn) is the most commonly used library for models. Requires all inputs to be numeric.\n",
    "https://www.analyticsvidhya.com/blog/2015/01/scikit-learn-python-machine-learning-tool/"
   ]
  },
  {
   "cell_type": "markdown",
   "metadata": {},
   "source": [
    "Converting categorical to Numeric"
   ]
  },
  {
   "cell_type": "code",
   "execution_count": 100,
   "metadata": {},
   "outputs": [
    {
     "data": {
      "text/plain": [
       "Loan_ID               object\n",
       "Gender                object\n",
       "Married               object\n",
       "Dependents            object\n",
       "Education             object\n",
       "Self_Employed         object\n",
       "ApplicantIncome        int64\n",
       "CoapplicantIncome    float64\n",
       "LoanAmount           float64\n",
       "Loan_Amount_Term     float64\n",
       "Credit_History       float64\n",
       "Property_Area         object\n",
       "Loan_Status           object\n",
       "LoanAmount_log       float64\n",
       "TotalIncome          float64\n",
       "TotalIncome_log      float64\n",
       "dtype: object"
      ]
     },
     "execution_count": 100,
     "metadata": {},
     "output_type": "execute_result"
    }
   ],
   "source": [
    "df.dtypes"
   ]
  },
  {
   "cell_type": "code",
   "execution_count": 121,
   "metadata": {},
   "outputs": [
    {
     "data": {
      "text/plain": [
       "Loan_ID               object\n",
       "Gender                object\n",
       "Married               object\n",
       "Dependents            object\n",
       "Education             object\n",
       "Self_Employed         object\n",
       "ApplicantIncome        int64\n",
       "CoapplicantIncome    float64\n",
       "LoanAmount           float64\n",
       "Loan_Amount_Term     float64\n",
       "Credit_History       float64\n",
       "Property_Area         object\n",
       "Loan_Status           object\n",
       "LoanAmount_log       float64\n",
       "TotalIncome          float64\n",
       "TotalIncome_log      float64\n",
       "gender_num           float64\n",
       "married_num          float64\n",
       "dependents_num       float64\n",
       "education_num          int64\n",
       "self_employed_num    float64\n",
       "property_area_num      int64\n",
       "loan_status_num        int64\n",
       "dtype: object"
      ]
     },
     "execution_count": 121,
     "metadata": {},
     "output_type": "execute_result"
    }
   ],
   "source": [
    "import pandas as pd\n",
    "\n",
    "#Create functions that convert all values of df['gender'] to numbers\n",
    "\n",
    "def gender_to_numeric(x):\n",
    "    if x=='Male':\n",
    "        return 1\n",
    "    if x=='Female':\n",
    "        return 0\n",
    "\n",
    "def married_to_numeric(x):\n",
    "    if x=='Yes':\n",
    "        return 1\n",
    "    if x=='No':\n",
    "        return 0\n",
    "\n",
    "def dependents_to_numeric(x):\n",
    "    if x=='0':\n",
    "        return 0\n",
    "    if x=='1':\n",
    "        return 1\n",
    "    if x=='2':\n",
    "        return 2\n",
    "    if x=='3+':\n",
    "        return 3\n",
    "    \n",
    "def education_to_numeric(x):\n",
    "    if x=='Graduate':\n",
    "        return 1\n",
    "    if x=='Not Graduate':\n",
    "        return 0\n",
    "    \n",
    "def self_employed_to_numeric(x):\n",
    "    if x=='Yes':\n",
    "        return 1\n",
    "    if x=='No':\n",
    "        return 0\n",
    "    \n",
    "def property_area_to_numeric(x):\n",
    "    if x=='Rural':\n",
    "        return 0\n",
    "    if x=='Semiurban':\n",
    "        return 1\n",
    "    if x=='Urban':\n",
    "        return 2\n",
    "    \n",
    "def loan_status_to_numeric(x):\n",
    "    if x=='Y':\n",
    "        return 1\n",
    "    if x=='N':\n",
    "        return 0\n",
    "\n",
    "# Apply the function to the gender variable\n",
    "\n",
    "df['gender_num'] = df['Gender'].apply(gender_to_numeric)\n",
    "df['married_num'] = df['Married'].apply(married_to_numeric)\n",
    "df['dependents_num'] = df['Dependents'].apply(dependents_to_numeric)\n",
    "df['education_num'] = df['Education'].apply(education_to_numeric)\n",
    "df['self_employed_num'] = df['Self_Employed'].apply(self_employed_to_numeric)\n",
    "df['property_area_num'] = df['Property_Area'].apply(property_area_to_numeric)\n",
    "df['loan_status_num'] = df['Loan_Status'].apply(loan_status_to_numeric)\n",
    "\n",
    "# View df.dtypes\n",
    "\n",
    "df.dtypes"
   ]
  },
  {
   "cell_type": "code",
   "execution_count": 122,
   "metadata": {},
   "outputs": [
    {
     "data": {
      "text/html": [
       "<div>\n",
       "<style scoped>\n",
       "    .dataframe tbody tr th:only-of-type {\n",
       "        vertical-align: middle;\n",
       "    }\n",
       "\n",
       "    .dataframe tbody tr th {\n",
       "        vertical-align: top;\n",
       "    }\n",
       "\n",
       "    .dataframe thead th {\n",
       "        text-align: right;\n",
       "    }\n",
       "</style>\n",
       "<table border=\"1\" class=\"dataframe\">\n",
       "  <thead>\n",
       "    <tr style=\"text-align: right;\">\n",
       "      <th></th>\n",
       "      <th>Loan_ID</th>\n",
       "      <th>Gender</th>\n",
       "      <th>Married</th>\n",
       "      <th>Dependents</th>\n",
       "      <th>Education</th>\n",
       "      <th>Self_Employed</th>\n",
       "      <th>ApplicantIncome</th>\n",
       "      <th>CoapplicantIncome</th>\n",
       "      <th>LoanAmount</th>\n",
       "      <th>Loan_Amount_Term</th>\n",
       "      <th>...</th>\n",
       "      <th>LoanAmount_log</th>\n",
       "      <th>TotalIncome</th>\n",
       "      <th>TotalIncome_log</th>\n",
       "      <th>gender_num</th>\n",
       "      <th>married_num</th>\n",
       "      <th>dependents_num</th>\n",
       "      <th>education_num</th>\n",
       "      <th>self_employed_num</th>\n",
       "      <th>property_area_num</th>\n",
       "      <th>loan_status_num</th>\n",
       "    </tr>\n",
       "  </thead>\n",
       "  <tbody>\n",
       "    <tr>\n",
       "      <th>0</th>\n",
       "      <td>LP001002</td>\n",
       "      <td>Male</td>\n",
       "      <td>No</td>\n",
       "      <td>0</td>\n",
       "      <td>Graduate</td>\n",
       "      <td>No</td>\n",
       "      <td>5849</td>\n",
       "      <td>0.0</td>\n",
       "      <td>146.412162</td>\n",
       "      <td>360.0</td>\n",
       "      <td>...</td>\n",
       "      <td>4.986426</td>\n",
       "      <td>5849.0</td>\n",
       "      <td>8.674026</td>\n",
       "      <td>1.0</td>\n",
       "      <td>0.0</td>\n",
       "      <td>0.0</td>\n",
       "      <td>1</td>\n",
       "      <td>0.0</td>\n",
       "      <td>2</td>\n",
       "      <td>1</td>\n",
       "    </tr>\n",
       "    <tr>\n",
       "      <th>1</th>\n",
       "      <td>LP001003</td>\n",
       "      <td>Male</td>\n",
       "      <td>Yes</td>\n",
       "      <td>1</td>\n",
       "      <td>Graduate</td>\n",
       "      <td>No</td>\n",
       "      <td>4583</td>\n",
       "      <td>1508.0</td>\n",
       "      <td>128.000000</td>\n",
       "      <td>360.0</td>\n",
       "      <td>...</td>\n",
       "      <td>4.852030</td>\n",
       "      <td>6091.0</td>\n",
       "      <td>8.714568</td>\n",
       "      <td>1.0</td>\n",
       "      <td>1.0</td>\n",
       "      <td>1.0</td>\n",
       "      <td>1</td>\n",
       "      <td>0.0</td>\n",
       "      <td>0</td>\n",
       "      <td>0</td>\n",
       "    </tr>\n",
       "    <tr>\n",
       "      <th>2</th>\n",
       "      <td>LP001005</td>\n",
       "      <td>Male</td>\n",
       "      <td>Yes</td>\n",
       "      <td>0</td>\n",
       "      <td>Graduate</td>\n",
       "      <td>Yes</td>\n",
       "      <td>3000</td>\n",
       "      <td>0.0</td>\n",
       "      <td>66.000000</td>\n",
       "      <td>360.0</td>\n",
       "      <td>...</td>\n",
       "      <td>4.189655</td>\n",
       "      <td>3000.0</td>\n",
       "      <td>8.006368</td>\n",
       "      <td>1.0</td>\n",
       "      <td>1.0</td>\n",
       "      <td>0.0</td>\n",
       "      <td>1</td>\n",
       "      <td>1.0</td>\n",
       "      <td>2</td>\n",
       "      <td>1</td>\n",
       "    </tr>\n",
       "    <tr>\n",
       "      <th>3</th>\n",
       "      <td>LP001006</td>\n",
       "      <td>Male</td>\n",
       "      <td>Yes</td>\n",
       "      <td>0</td>\n",
       "      <td>Not Graduate</td>\n",
       "      <td>No</td>\n",
       "      <td>2583</td>\n",
       "      <td>2358.0</td>\n",
       "      <td>120.000000</td>\n",
       "      <td>360.0</td>\n",
       "      <td>...</td>\n",
       "      <td>4.787492</td>\n",
       "      <td>4941.0</td>\n",
       "      <td>8.505323</td>\n",
       "      <td>1.0</td>\n",
       "      <td>1.0</td>\n",
       "      <td>0.0</td>\n",
       "      <td>0</td>\n",
       "      <td>0.0</td>\n",
       "      <td>2</td>\n",
       "      <td>1</td>\n",
       "    </tr>\n",
       "    <tr>\n",
       "      <th>4</th>\n",
       "      <td>LP001008</td>\n",
       "      <td>Male</td>\n",
       "      <td>No</td>\n",
       "      <td>0</td>\n",
       "      <td>Graduate</td>\n",
       "      <td>No</td>\n",
       "      <td>6000</td>\n",
       "      <td>0.0</td>\n",
       "      <td>141.000000</td>\n",
       "      <td>360.0</td>\n",
       "      <td>...</td>\n",
       "      <td>4.948760</td>\n",
       "      <td>6000.0</td>\n",
       "      <td>8.699515</td>\n",
       "      <td>1.0</td>\n",
       "      <td>0.0</td>\n",
       "      <td>0.0</td>\n",
       "      <td>1</td>\n",
       "      <td>0.0</td>\n",
       "      <td>2</td>\n",
       "      <td>1</td>\n",
       "    </tr>\n",
       "    <tr>\n",
       "      <th>5</th>\n",
       "      <td>LP001011</td>\n",
       "      <td>Male</td>\n",
       "      <td>Yes</td>\n",
       "      <td>2</td>\n",
       "      <td>Graduate</td>\n",
       "      <td>Yes</td>\n",
       "      <td>5417</td>\n",
       "      <td>4196.0</td>\n",
       "      <td>267.000000</td>\n",
       "      <td>360.0</td>\n",
       "      <td>...</td>\n",
       "      <td>5.587249</td>\n",
       "      <td>9613.0</td>\n",
       "      <td>9.170872</td>\n",
       "      <td>1.0</td>\n",
       "      <td>1.0</td>\n",
       "      <td>2.0</td>\n",
       "      <td>1</td>\n",
       "      <td>1.0</td>\n",
       "      <td>2</td>\n",
       "      <td>1</td>\n",
       "    </tr>\n",
       "    <tr>\n",
       "      <th>6</th>\n",
       "      <td>LP001013</td>\n",
       "      <td>Male</td>\n",
       "      <td>Yes</td>\n",
       "      <td>0</td>\n",
       "      <td>Not Graduate</td>\n",
       "      <td>No</td>\n",
       "      <td>2333</td>\n",
       "      <td>1516.0</td>\n",
       "      <td>95.000000</td>\n",
       "      <td>360.0</td>\n",
       "      <td>...</td>\n",
       "      <td>4.553877</td>\n",
       "      <td>3849.0</td>\n",
       "      <td>8.255569</td>\n",
       "      <td>1.0</td>\n",
       "      <td>1.0</td>\n",
       "      <td>0.0</td>\n",
       "      <td>0</td>\n",
       "      <td>0.0</td>\n",
       "      <td>2</td>\n",
       "      <td>1</td>\n",
       "    </tr>\n",
       "    <tr>\n",
       "      <th>7</th>\n",
       "      <td>LP001014</td>\n",
       "      <td>Male</td>\n",
       "      <td>Yes</td>\n",
       "      <td>3+</td>\n",
       "      <td>Graduate</td>\n",
       "      <td>No</td>\n",
       "      <td>3036</td>\n",
       "      <td>2504.0</td>\n",
       "      <td>158.000000</td>\n",
       "      <td>360.0</td>\n",
       "      <td>...</td>\n",
       "      <td>5.062595</td>\n",
       "      <td>5540.0</td>\n",
       "      <td>8.619750</td>\n",
       "      <td>1.0</td>\n",
       "      <td>1.0</td>\n",
       "      <td>3.0</td>\n",
       "      <td>1</td>\n",
       "      <td>0.0</td>\n",
       "      <td>1</td>\n",
       "      <td>0</td>\n",
       "    </tr>\n",
       "    <tr>\n",
       "      <th>8</th>\n",
       "      <td>LP001018</td>\n",
       "      <td>Male</td>\n",
       "      <td>Yes</td>\n",
       "      <td>2</td>\n",
       "      <td>Graduate</td>\n",
       "      <td>No</td>\n",
       "      <td>4006</td>\n",
       "      <td>1526.0</td>\n",
       "      <td>168.000000</td>\n",
       "      <td>360.0</td>\n",
       "      <td>...</td>\n",
       "      <td>5.123964</td>\n",
       "      <td>5532.0</td>\n",
       "      <td>8.618305</td>\n",
       "      <td>1.0</td>\n",
       "      <td>1.0</td>\n",
       "      <td>2.0</td>\n",
       "      <td>1</td>\n",
       "      <td>0.0</td>\n",
       "      <td>2</td>\n",
       "      <td>1</td>\n",
       "    </tr>\n",
       "    <tr>\n",
       "      <th>9</th>\n",
       "      <td>LP001020</td>\n",
       "      <td>Male</td>\n",
       "      <td>Yes</td>\n",
       "      <td>1</td>\n",
       "      <td>Graduate</td>\n",
       "      <td>No</td>\n",
       "      <td>12841</td>\n",
       "      <td>10968.0</td>\n",
       "      <td>349.000000</td>\n",
       "      <td>360.0</td>\n",
       "      <td>...</td>\n",
       "      <td>5.855072</td>\n",
       "      <td>23809.0</td>\n",
       "      <td>10.077819</td>\n",
       "      <td>1.0</td>\n",
       "      <td>1.0</td>\n",
       "      <td>1.0</td>\n",
       "      <td>1</td>\n",
       "      <td>0.0</td>\n",
       "      <td>1</td>\n",
       "      <td>0</td>\n",
       "    </tr>\n",
       "  </tbody>\n",
       "</table>\n",
       "<p>10 rows × 23 columns</p>\n",
       "</div>"
      ],
      "text/plain": [
       "    Loan_ID Gender Married Dependents     Education Self_Employed  \\\n",
       "0  LP001002   Male      No          0      Graduate            No   \n",
       "1  LP001003   Male     Yes          1      Graduate            No   \n",
       "2  LP001005   Male     Yes          0      Graduate           Yes   \n",
       "3  LP001006   Male     Yes          0  Not Graduate            No   \n",
       "4  LP001008   Male      No          0      Graduate            No   \n",
       "5  LP001011   Male     Yes          2      Graduate           Yes   \n",
       "6  LP001013   Male     Yes          0  Not Graduate            No   \n",
       "7  LP001014   Male     Yes         3+      Graduate            No   \n",
       "8  LP001018   Male     Yes          2      Graduate            No   \n",
       "9  LP001020   Male     Yes          1      Graduate            No   \n",
       "\n",
       "   ApplicantIncome  CoapplicantIncome  LoanAmount  Loan_Amount_Term  \\\n",
       "0             5849                0.0  146.412162             360.0   \n",
       "1             4583             1508.0  128.000000             360.0   \n",
       "2             3000                0.0   66.000000             360.0   \n",
       "3             2583             2358.0  120.000000             360.0   \n",
       "4             6000                0.0  141.000000             360.0   \n",
       "5             5417             4196.0  267.000000             360.0   \n",
       "6             2333             1516.0   95.000000             360.0   \n",
       "7             3036             2504.0  158.000000             360.0   \n",
       "8             4006             1526.0  168.000000             360.0   \n",
       "9            12841            10968.0  349.000000             360.0   \n",
       "\n",
       "        ...         LoanAmount_log TotalIncome TotalIncome_log  gender_num  \\\n",
       "0       ...               4.986426      5849.0        8.674026         1.0   \n",
       "1       ...               4.852030      6091.0        8.714568         1.0   \n",
       "2       ...               4.189655      3000.0        8.006368         1.0   \n",
       "3       ...               4.787492      4941.0        8.505323         1.0   \n",
       "4       ...               4.948760      6000.0        8.699515         1.0   \n",
       "5       ...               5.587249      9613.0        9.170872         1.0   \n",
       "6       ...               4.553877      3849.0        8.255569         1.0   \n",
       "7       ...               5.062595      5540.0        8.619750         1.0   \n",
       "8       ...               5.123964      5532.0        8.618305         1.0   \n",
       "9       ...               5.855072     23809.0       10.077819         1.0   \n",
       "\n",
       "   married_num  dependents_num  education_num  self_employed_num  \\\n",
       "0          0.0             0.0              1                0.0   \n",
       "1          1.0             1.0              1                0.0   \n",
       "2          1.0             0.0              1                1.0   \n",
       "3          1.0             0.0              0                0.0   \n",
       "4          0.0             0.0              1                0.0   \n",
       "5          1.0             2.0              1                1.0   \n",
       "6          1.0             0.0              0                0.0   \n",
       "7          1.0             3.0              1                0.0   \n",
       "8          1.0             2.0              1                0.0   \n",
       "9          1.0             1.0              1                0.0   \n",
       "\n",
       "   property_area_num  loan_status_num  \n",
       "0                  2                1  \n",
       "1                  0                0  \n",
       "2                  2                1  \n",
       "3                  2                1  \n",
       "4                  2                1  \n",
       "5                  2                1  \n",
       "6                  2                1  \n",
       "7                  1                0  \n",
       "8                  2                1  \n",
       "9                  1                0  \n",
       "\n",
       "[10 rows x 23 columns]"
      ]
     },
     "execution_count": 122,
     "metadata": {},
     "output_type": "execute_result"
    }
   ],
   "source": [
    "#Looking at the revised df\n",
    "\n",
    "df.head(10)"
   ]
  },
  {
   "cell_type": "markdown",
   "metadata": {},
   "source": [
    "Machine Learning Algorithms with Code: https://www.analyticsvidhya.com/blog/2017/09/common-machine-learning-algorithms/"
   ]
  },
  {
   "cell_type": "markdown",
   "metadata": {},
   "source": [
    "LOGISTIC REGRESSION"
   ]
  },
  {
   "cell_type": "markdown",
   "metadata": {},
   "source": [
    "Let’s make our first Logistic Regression model. One way would be to take all the variables into the model but this might result in overfitting (don’t worry if you’re unaware of this terminology yet). In simple words, taking all variables might result in the model understanding complex relations specific to the data and will not generalize well."
   ]
  },
  {
   "cell_type": "markdown",
   "metadata": {},
   "source": [
    "We can easily make some intuitive hypothesis to set the ball rolling. The chances of getting a loan will be higher for:\n",
    "\n",
    "Applicants having a credit history (remember we observed this in exploration?)\n",
    "Applicants with higher applicant and co-applicant incomes\n",
    "Applicants with higher education level\n",
    "Properties in urban areas with high growth perspectives\n",
    "So let’s make our first model with ‘Credit_History’."
   ]
  },
  {
   "cell_type": "code",
   "execution_count": 126,
   "metadata": {},
   "outputs": [
    {
     "name": "stderr",
     "output_type": "stream",
     "text": [
      "C:\\Users\\mbradley016\\AppData\\Local\\Continuum\\anaconda3\\lib\\site-packages\\sklearn\\cross_validation.py:41: DeprecationWarning: This module was deprecated in version 0.18 in favor of the model_selection module into which all the refactored classes and functions are moved. Also note that the interface of the new CV iterators are different from that of this module. This module will be removed in 0.20.\n",
      "  \"This module will be removed in 0.20.\", DeprecationWarning)\n"
     ]
    }
   ],
   "source": [
    "#Import models from scikit learn module:\n",
    "from sklearn.linear_model import LogisticRegression\n",
    "from sklearn.cross_validation import KFold   #For K-fold cross validation\n",
    "from sklearn.ensemble import RandomForestClassifier\n",
    "from sklearn.tree import DecisionTreeClassifier, export_graphviz\n",
    "from sklearn import metrics\n",
    "\n",
    "#Generic function for making a classification model and accessing performance:\n",
    "def classification_model(model, data, predictors, outcome):\n",
    "  #Fit the model:\n",
    "  model.fit(data[predictors],data[outcome])\n",
    "  \n",
    "  #Make predictions on training set:\n",
    "  predictions = model.predict(data[predictors])\n",
    "  \n",
    "  #Print accuracy\n",
    "  accuracy = metrics.accuracy_score(predictions,data[outcome])\n",
    "  print (\"Accuracy : %s\" % \"{0:.3%}\".format(accuracy))\n",
    "\n",
    "  #Perform k-fold cross-validation with 5 folds\n",
    "  kf = KFold(data.shape[0], n_folds=5)\n",
    "  error = []\n",
    "  for train, test in kf:\n",
    "    # Filter training data\n",
    "    train_predictors = (data[predictors].iloc[train,:])\n",
    "    \n",
    "    # The target we're using to train the algorithm.\n",
    "    train_target = data[outcome].iloc[train]\n",
    "    \n",
    "    # Training the algorithm using the predictors and target.\n",
    "    model.fit(train_predictors, train_target)\n",
    "    \n",
    "    #Record error from each cross-validation run\n",
    "    error.append(model.score(data[predictors].iloc[test,:], data[outcome].iloc[test]))\n",
    " \n",
    "  print (\"Cross-Validation Score : %s\" % \"{0:.3%}\".format(np.mean(error)))\n",
    "\n",
    "  #Fit the model again so that it can be refered outside the function:\n",
    "  model.fit(data[predictors],data[outcome]) \n"
   ]
  },
  {
   "cell_type": "code",
   "execution_count": 127,
   "metadata": {},
   "outputs": [
    {
     "name": "stdout",
     "output_type": "stream",
     "text": [
      "Accuracy : 80.945%\n",
      "Cross-Validation Score : 80.946%\n"
     ]
    }
   ],
   "source": [
    "outcome_var = 'Loan_Status'\n",
    "model = LogisticRegression()\n",
    "predictor_var = ['Credit_History']\n",
    "classification_model(model, df,predictor_var,outcome_var)"
   ]
  },
  {
   "cell_type": "code",
   "execution_count": 144,
   "metadata": {},
   "outputs": [
    {
     "name": "stdout",
     "output_type": "stream",
     "text": [
      "Accuracy : 80.945%\n",
      "Cross-Validation Score : 80.946%\n"
     ]
    }
   ],
   "source": [
    "#We can try different combination of variables:\n",
    "predictor_var = ['Credit_History','education_num','married_num','self_employed_num','property_area_num']\n",
    "classification_model(model, df,predictor_var,outcome_var)"
   ]
  },
  {
   "cell_type": "markdown",
   "metadata": {},
   "source": [
    "Generally we expect the accuracy to increase on adding variables. But this is a more challenging case. The accuracy and cross-validation score are not getting impacted by less important variables. Credit_History is dominating the mode. We have two options now:\n",
    "\n",
    "Feature Engineering: dereive new information and try to predict those. I will leave this to your creativity.\n",
    "Better modeling techniques. Let’s explore this next."
   ]
  },
  {
   "cell_type": "code",
   "execution_count": 148,
   "metadata": {},
   "outputs": [
    {
     "name": "stdout",
     "output_type": "stream",
     "text": [
      "Accuracy : 81.270%\n",
      "Cross-Validation Score : 81.110%\n"
     ]
    }
   ],
   "source": [
    "model = DecisionTreeClassifier()\n",
    "predictor_var = ['Credit_History','gender_num','married_num','education_num']\n",
    "classification_model(model, df,predictor_var,outcome_var)"
   ]
  },
  {
   "cell_type": "markdown",
   "metadata": {},
   "source": [
    "Here the model based on categorical variables is unable to have an impact because Credit History is dominating over them. Let’s try a few numerical variables:"
   ]
  },
  {
   "cell_type": "code",
   "execution_count": 149,
   "metadata": {},
   "outputs": [
    {
     "name": "stdout",
     "output_type": "stream",
     "text": [
      "Accuracy : 90.879%\n",
      "Cross-Validation Score : 67.910%\n"
     ]
    }
   ],
   "source": [
    "#We can try different combination of variables:\n",
    "predictor_var = ['Credit_History','Loan_Amount_Term','LoanAmount_log']\n",
    "classification_model(model, df,predictor_var,outcome_var)"
   ]
  },
  {
   "cell_type": "markdown",
   "metadata": {},
   "source": [
    "Here we observed that although the accuracy went up on adding variables, the cross-validation error went down. This is the result of model over-fitting the data. Let’s try an even more sophisticated algorithm and see if it helps:"
   ]
  },
  {
   "cell_type": "markdown",
   "metadata": {},
   "source": [
    "RANDOM FOREST"
   ]
  },
  {
   "cell_type": "markdown",
   "metadata": {},
   "source": [
    "An advantage with Random Forest is that we can make it work with all the features and it returns a feature importance matrix which can be used to select features."
   ]
  },
  {
   "cell_type": "code",
   "execution_count": 154,
   "metadata": {},
   "outputs": [
    {
     "name": "stdout",
     "output_type": "stream",
     "text": [
      "Accuracy : 100.000%\n",
      "Cross-Validation Score : 78.017%\n"
     ]
    }
   ],
   "source": [
    "model = RandomForestClassifier(n_estimators=100)\n",
    "predictor_var = ['gender_num', 'married_num','education_num',\n",
    "       'self_employed_num', 'Loan_Amount_Term', 'Credit_History', 'property_area_num',\n",
    "        'LoanAmount_log','TotalIncome_log']\n",
    "classification_model(model, df,predictor_var,outcome_var)"
   ]
  },
  {
   "cell_type": "markdown",
   "metadata": {},
   "source": [
    "Here we see that the accuracy is 100% for the training set. This is the ultimate case of overfitting and can be resolved in two ways:\n",
    "\n",
    "Reducing the number of predictors\n",
    "Tuning the model parameters\n",
    "\n",
    "Let’s try both of these. First we see the feature importance matrix from which we’ll take the most important features."
   ]
  },
  {
   "cell_type": "markdown",
   "metadata": {},
   "source": [
    "Create a series with FEATURE IMPORTANCES"
   ]
  },
  {
   "cell_type": "code",
   "execution_count": 155,
   "metadata": {},
   "outputs": [
    {
     "name": "stdout",
     "output_type": "stream",
     "text": [
      "Credit_History       0.300192\n",
      "TotalIncome_log      0.269043\n",
      "LoanAmount_log       0.226817\n",
      "property_area_num    0.049533\n",
      "Loan_Amount_Term     0.042946\n",
      "self_employed_num    0.032033\n",
      "married_num          0.027561\n",
      "gender_num           0.026523\n",
      "education_num        0.025353\n",
      "dtype: float64\n"
     ]
    }
   ],
   "source": [
    "featimp = pd.Series(model.feature_importances_, index=predictor_var).sort_values(ascending=False)\n",
    "print (featimp)"
   ]
  },
  {
   "cell_type": "markdown",
   "metadata": {},
   "source": [
    "Let’s use the top 5 variables for creating a model. Also, we will modify the parameters of random forest model a little bit:"
   ]
  },
  {
   "cell_type": "code",
   "execution_count": 156,
   "metadata": {},
   "outputs": [
    {
     "name": "stdout",
     "output_type": "stream",
     "text": [
      "Accuracy : 82.248%\n",
      "Cross-Validation Score : 80.132%\n"
     ]
    }
   ],
   "source": [
    "model = RandomForestClassifier(n_estimators=25, min_samples_split=25, max_depth=7, max_features=1)\n",
    "predictor_var = ['TotalIncome_log','LoanAmount_log','Credit_History']\n",
    "classification_model(model, df,predictor_var,outcome_var)"
   ]
  },
  {
   "cell_type": "markdown",
   "metadata": {},
   "source": [
    "Notice that although accuracy reduced, but the cross-validation score is improving showing that the model is generalizing well. Remember that random forest models are not exactly repeatable. Different runs will result in slight variations because of randomization. But the output should stay in the ballpark.\n",
    "\n",
    "You would have noticed that even after some basic parameter tuning on random forest, we have reached a cross-validation accuracy only slightly better than the original logistic regression model. This exercise gives us some very interesting and unique learning:\n",
    "\n",
    "Using a more sophisticated model does not guarantee better results.\n",
    "Avoid using complex modeling techniques as a black box without understanding the underlying concepts. Doing so would increase the tendency of overfitting thus making your models less interpretable\n",
    "Feature Engineering is the key to success. Everyone can use an Xgboost models but the real art and creativity lies in enhancing your features to better suit the model.\n",
    "So are you ready to take on the challenge? Start your data science journey with Loan Prediction Problem."
   ]
  },
  {
   "cell_type": "code",
   "execution_count": null,
   "metadata": {},
   "outputs": [],
   "source": []
  }
 ],
 "metadata": {
  "kernelspec": {
   "display_name": "Python 3",
   "language": "python",
   "name": "python3"
  },
  "language_info": {
   "codemirror_mode": {
    "name": "ipython",
    "version": 3
   },
   "file_extension": ".py",
   "mimetype": "text/x-python",
   "name": "python",
   "nbconvert_exporter": "python",
   "pygments_lexer": "ipython3",
   "version": "3.6.4"
  }
 },
 "nbformat": 4,
 "nbformat_minor": 2
}
